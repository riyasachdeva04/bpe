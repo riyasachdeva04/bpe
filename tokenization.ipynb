{
  "nbformat": 4,
  "nbformat_minor": 0,
  "metadata": {
    "colab": {
      "provenance": []
    },
    "kernelspec": {
      "name": "python3",
      "display_name": "Python 3"
    },
    "language_info": {
      "name": "python"
    }
  },
  "cells": [
    {
      "cell_type": "markdown",
      "source": [
        "**byte pair encoding**"
      ],
      "metadata": {
        "id": "ZHMo9ZM3BnQ7"
      }
    },
    {
      "cell_type": "code",
      "execution_count": 1,
      "metadata": {
        "colab": {
          "base_uri": "https://localhost:8080/"
        },
        "id": "R2z35z8xhoDb",
        "outputId": "9cf123ea-617e-4be3-ab86-dac77586a445"
      },
      "outputs": [
        {
          "output_type": "execute_result",
          "data": {
            "text/plain": [
              "[104, 101, 121]"
            ]
          },
          "metadata": {},
          "execution_count": 1
        }
      ],
      "source": [
        "# unicode code point\n",
        "ord('j')\n",
        "[ord(x) for x in 'hey']"
      ]
    },
    {
      "cell_type": "code",
      "source": [
        "list(\"rjfb3by3b4 nememe\".encode('utf-8'))"
      ],
      "metadata": {
        "colab": {
          "base_uri": "https://localhost:8080/"
        },
        "id": "0SLt3X7siYOa",
        "outputId": "c18cbbbd-65f7-48d2-9502-6a3b3e43c3ce"
      },
      "execution_count": 2,
      "outputs": [
        {
          "output_type": "execute_result",
          "data": {
            "text/plain": [
              "[114, 106, 102, 98, 51, 98, 121, 51, 98, 52, 32, 110, 101, 109, 101, 109, 101]"
            ]
          },
          "metadata": {},
          "execution_count": 2
        }
      ]
    },
    {
      "cell_type": "code",
      "source": [
        "# text from https://www.reedbeta.com/blog/programmers-intro-to-unicode/\n",
        "text = \"Ｕｎｉｃｏｄｅ! 🅤🅝🅘🅒🅞🅓🅔‽ 🇺‌🇳‌🇮‌🇨‌🇴‌🇩‌🇪! 😄 The very name strikes fear and awe into the hearts of programmers worldwide. We all know we ought to “support Unicode” in our software (whatever that means—like using wchar_t for all the strings, right?). But Unicode can be abstruse, and diving into the thousand-page Unicode Standard plus its dozens of supplementary annexes, reports, and notes can be more than a little intimidating. I don’t blame programmers for still finding the whole thing mysterious, even 30 years after Unicode’s inception.\"\n",
        "tokens = text.encode(\"utf-8\") # raw bytes\n",
        "tokens = list(map(int, tokens)) # convert to a list of integers in range 0..255 for convenience\n",
        "print('---')\n",
        "print(text)\n",
        "print(\"length:\", len(text))\n",
        "print('---')\n",
        "print(tokens)\n",
        "print(\"length:\", len(tokens))"
      ],
      "metadata": {
        "id": "nsC1R89ciccc",
        "colab": {
          "base_uri": "https://localhost:8080/"
        },
        "outputId": "b102f435-7fdf-4ac7-a41a-ccd347aa6275"
      },
      "execution_count": 3,
      "outputs": [
        {
          "output_type": "stream",
          "name": "stdout",
          "text": [
            "---\n",
            "Ｕｎｉｃｏｄｅ! 🅤🅝🅘🅒🅞🅓🅔‽ 🇺‌🇳‌🇮‌🇨‌🇴‌🇩‌🇪! 😄 The very name strikes fear and awe into the hearts of programmers worldwide. We all know we ought to “support Unicode” in our software (whatever that means—like using wchar_t for all the strings, right?). But Unicode can be abstruse, and diving into the thousand-page Unicode Standard plus its dozens of supplementary annexes, reports, and notes can be more than a little intimidating. I don’t blame programmers for still finding the whole thing mysterious, even 30 years after Unicode’s inception.\n",
            "length: 533\n",
            "---\n",
            "[239, 188, 181, 239, 189, 142, 239, 189, 137, 239, 189, 131, 239, 189, 143, 239, 189, 132, 239, 189, 133, 33, 32, 240, 159, 133, 164, 240, 159, 133, 157, 240, 159, 133, 152, 240, 159, 133, 146, 240, 159, 133, 158, 240, 159, 133, 147, 240, 159, 133, 148, 226, 128, 189, 32, 240, 159, 135, 186, 226, 128, 140, 240, 159, 135, 179, 226, 128, 140, 240, 159, 135, 174, 226, 128, 140, 240, 159, 135, 168, 226, 128, 140, 240, 159, 135, 180, 226, 128, 140, 240, 159, 135, 169, 226, 128, 140, 240, 159, 135, 170, 33, 32, 240, 159, 152, 132, 32, 84, 104, 101, 32, 118, 101, 114, 121, 32, 110, 97, 109, 101, 32, 115, 116, 114, 105, 107, 101, 115, 32, 102, 101, 97, 114, 32, 97, 110, 100, 32, 97, 119, 101, 32, 105, 110, 116, 111, 32, 116, 104, 101, 32, 104, 101, 97, 114, 116, 115, 32, 111, 102, 32, 112, 114, 111, 103, 114, 97, 109, 109, 101, 114, 115, 32, 119, 111, 114, 108, 100, 119, 105, 100, 101, 46, 32, 87, 101, 32, 97, 108, 108, 32, 107, 110, 111, 119, 32, 119, 101, 32, 111, 117, 103, 104, 116, 32, 116, 111, 32, 226, 128, 156, 115, 117, 112, 112, 111, 114, 116, 32, 85, 110, 105, 99, 111, 100, 101, 226, 128, 157, 32, 105, 110, 32, 111, 117, 114, 32, 115, 111, 102, 116, 119, 97, 114, 101, 32, 40, 119, 104, 97, 116, 101, 118, 101, 114, 32, 116, 104, 97, 116, 32, 109, 101, 97, 110, 115, 226, 128, 148, 108, 105, 107, 101, 32, 117, 115, 105, 110, 103, 32, 119, 99, 104, 97, 114, 95, 116, 32, 102, 111, 114, 32, 97, 108, 108, 32, 116, 104, 101, 32, 115, 116, 114, 105, 110, 103, 115, 44, 32, 114, 105, 103, 104, 116, 63, 41, 46, 32, 66, 117, 116, 32, 85, 110, 105, 99, 111, 100, 101, 32, 99, 97, 110, 32, 98, 101, 32, 97, 98, 115, 116, 114, 117, 115, 101, 44, 32, 97, 110, 100, 32, 100, 105, 118, 105, 110, 103, 32, 105, 110, 116, 111, 32, 116, 104, 101, 32, 116, 104, 111, 117, 115, 97, 110, 100, 45, 112, 97, 103, 101, 32, 85, 110, 105, 99, 111, 100, 101, 32, 83, 116, 97, 110, 100, 97, 114, 100, 32, 112, 108, 117, 115, 32, 105, 116, 115, 32, 100, 111, 122, 101, 110, 115, 32, 111, 102, 32, 115, 117, 112, 112, 108, 101, 109, 101, 110, 116, 97, 114, 121, 32, 97, 110, 110, 101, 120, 101, 115, 44, 32, 114, 101, 112, 111, 114, 116, 115, 44, 32, 97, 110, 100, 32, 110, 111, 116, 101, 115, 32, 99, 97, 110, 32, 98, 101, 32, 109, 111, 114, 101, 32, 116, 104, 97, 110, 32, 97, 32, 108, 105, 116, 116, 108, 101, 32, 105, 110, 116, 105, 109, 105, 100, 97, 116, 105, 110, 103, 46, 32, 73, 32, 100, 111, 110, 226, 128, 153, 116, 32, 98, 108, 97, 109, 101, 32, 112, 114, 111, 103, 114, 97, 109, 109, 101, 114, 115, 32, 102, 111, 114, 32, 115, 116, 105, 108, 108, 32, 102, 105, 110, 100, 105, 110, 103, 32, 116, 104, 101, 32, 119, 104, 111, 108, 101, 32, 116, 104, 105, 110, 103, 32, 109, 121, 115, 116, 101, 114, 105, 111, 117, 115, 44, 32, 101, 118, 101, 110, 32, 51, 48, 32, 121, 101, 97, 114, 115, 32, 97, 102, 116, 101, 114, 32, 85, 110, 105, 99, 111, 100, 101, 226, 128, 153, 115, 32, 105, 110, 99, 101, 112, 116, 105, 111, 110, 46]\n",
            "length: 616\n"
          ]
        }
      ]
    },
    {
      "cell_type": "code",
      "source": [
        "def count_adjacent_pairs(lst):\n",
        "  pair_counts = {}\n",
        "  for i in range(len(lst) - 1):\n",
        "    pair = (lst[i], lst[i + 1])\n",
        "    if pair not in pair_counts:\n",
        "      pair_counts[pair] = 0\n",
        "    pair_counts[pair] += 1\n",
        "  return pair_counts\n",
        "\n",
        "pair_counts = count_adjacent_pairs(tokens)\n",
        "print(sorted(((v,k) for k,v in pair_counts.items()), reverse=True))"
      ],
      "metadata": {
        "id": "MlqJS9VpiciE",
        "colab": {
          "base_uri": "https://localhost:8080/"
        },
        "outputId": "e006c047-e10d-4cb4-9bec-b86c35f127e5"
      },
      "execution_count": 4,
      "outputs": [
        {
          "output_type": "stream",
          "name": "stdout",
          "text": [
            "[(20, (101, 32)), (15, (240, 159)), (12, (226, 128)), (12, (105, 110)), (10, (115, 32)), (10, (97, 110)), (10, (32, 97)), (9, (32, 116)), (8, (116, 104)), (7, (159, 135)), (7, (159, 133)), (7, (97, 114)), (6, (239, 189)), (6, (140, 240)), (6, (128, 140)), (6, (116, 32)), (6, (114, 32)), (6, (111, 114)), (6, (110, 103)), (6, (110, 100)), (6, (109, 101)), (6, (104, 101)), (6, (101, 114)), (6, (32, 105)), (5, (117, 115)), (5, (115, 116)), (5, (110, 32)), (5, (100, 101)), (5, (44, 32)), (5, (32, 115)), (4, (116, 105)), (4, (116, 101)), (4, (115, 44)), (4, (114, 105)), (4, (111, 117)), (4, (111, 100)), (4, (110, 116)), (4, (110, 105)), (4, (105, 99)), (4, (104, 97)), (4, (103, 32)), (4, (101, 97)), (4, (100, 32)), (4, (99, 111)), (4, (97, 109)), (4, (85, 110)), (4, (32, 119)), (4, (32, 111)), (4, (32, 102)), (4, (32, 85)), (3, (118, 101)), (3, (116, 115)), (3, (116, 114)), (3, (116, 111)), (3, (114, 116)), (3, (114, 115)), (3, (114, 101)), (3, (111, 102)), (3, (111, 32)), (3, (108, 108)), (3, (108, 101)), (3, (108, 32)), (3, (101, 115)), (3, (101, 110)), (3, (97, 116)), (3, (46, 32)), (3, (32, 240)), (3, (32, 112)), (3, (32, 109)), (3, (32, 100)), (3, (32, 98)), (2, (128, 153)), (2, (121, 32)), (2, (119, 104)), (2, (119, 101)), (2, (117, 112)), (2, (116, 97)), (2, (115, 117)), (2, (114, 121)), (2, (114, 111)), (2, (114, 97)), (2, (112, 114)), (2, (112, 112)), (2, (112, 111)), (2, (112, 108)), (2, (111, 110)), (2, (111, 103)), (2, (110, 115)), (2, (110, 111)), (2, (109, 109)), (2, (108, 105)), (2, (107, 101)), (2, (105, 116)), (2, (105, 111)), (2, (105, 107)), (2, (105, 100)), (2, (104, 116)), (2, (104, 111)), (2, (103, 114)), (2, (103, 104)), (2, (102, 116)), (2, (102, 111)), (2, (102, 32)), (2, (101, 226)), (2, (101, 118)), (2, (101, 112)), (2, (100, 111)), (2, (100, 105)), (2, (100, 97)), (2, (99, 97)), (2, (98, 101)), (2, (97, 108)), (2, (33, 32)), (2, (32, 114)), (2, (32, 110)), (2, (32, 99)), (1, (239, 188)), (1, (189, 143)), (1, (189, 142)), (1, (189, 137)), (1, (189, 133)), (1, (189, 132)), (1, (189, 131)), (1, (189, 32)), (1, (188, 181)), (1, (186, 226)), (1, (181, 239)), (1, (180, 226)), (1, (179, 226)), (1, (174, 226)), (1, (170, 33)), (1, (169, 226)), (1, (168, 226)), (1, (164, 240)), (1, (159, 152)), (1, (158, 240)), (1, (157, 240)), (1, (157, 32)), (1, (156, 115)), (1, (153, 116)), (1, (153, 115)), (1, (152, 240)), (1, (152, 132)), (1, (148, 226)), (1, (148, 108)), (1, (147, 240)), (1, (146, 240)), (1, (143, 239)), (1, (142, 239)), (1, (137, 239)), (1, (135, 186)), (1, (135, 180)), (1, (135, 179)), (1, (135, 174)), (1, (135, 170)), (1, (135, 169)), (1, (135, 168)), (1, (133, 164)), (1, (133, 158)), (1, (133, 157)), (1, (133, 152)), (1, (133, 148)), (1, (133, 147)), (1, (133, 146)), (1, (133, 33)), (1, (132, 239)), (1, (132, 32)), (1, (131, 239)), (1, (128, 189)), (1, (128, 157)), (1, (128, 156)), (1, (128, 148)), (1, (122, 101)), (1, (121, 115)), (1, (121, 101)), (1, (120, 101)), (1, (119, 111)), (1, (119, 105)), (1, (119, 99)), (1, (119, 97)), (1, (119, 32)), (1, (118, 105)), (1, (117, 116)), (1, (117, 114)), (1, (117, 103)), (1, (116, 119)), (1, (116, 116)), (1, (116, 108)), (1, (116, 63)), (1, (115, 226)), (1, (115, 111)), (1, (115, 105)), (1, (115, 101)), (1, (115, 97)), (1, (114, 117)), (1, (114, 108)), (1, (114, 100)), (1, (114, 95)), (1, (112, 116)), (1, (112, 97)), (1, (111, 122)), (1, (111, 119)), (1, (111, 116)), (1, (111, 108)), (1, (110, 226)), (1, (110, 110)), (1, (110, 101)), (1, (110, 99)), (1, (110, 97)), (1, (110, 46)), (1, (109, 121)), (1, (109, 111)), (1, (109, 105)), (1, (108, 117)), (1, (108, 100)), (1, (108, 97)), (1, (107, 110)), (1, (105, 118)), (1, (105, 109)), (1, (105, 108)), (1, (105, 103)), (1, (104, 105)), (1, (103, 115)), (1, (103, 101)), (1, (103, 46)), (1, (102, 105)), (1, (102, 101)), (1, (101, 120)), (1, (101, 109)), (1, (101, 46)), (1, (101, 44)), (1, (100, 119)), (1, (100, 45)), (1, (99, 104)), (1, (99, 101)), (1, (98, 115)), (1, (98, 108)), (1, (97, 119)), (1, (97, 103)), (1, (97, 102)), (1, (97, 98)), (1, (97, 32)), (1, (95, 116)), (1, (87, 101)), (1, (84, 104)), (1, (83, 116)), (1, (73, 32)), (1, (66, 117)), (1, (63, 41)), (1, (51, 48)), (1, (48, 32)), (1, (45, 112)), (1, (41, 46)), (1, (40, 119)), (1, (32, 226)), (1, (32, 121)), (1, (32, 118)), (1, (32, 117)), (1, (32, 108)), (1, (32, 107)), (1, (32, 104)), (1, (32, 101)), (1, (32, 87)), (1, (32, 84)), (1, (32, 83)), (1, (32, 73)), (1, (32, 66)), (1, (32, 51)), (1, (32, 40))]\n"
          ]
        }
      ]
    },
    {
      "cell_type": "code",
      "source": [
        "top_val = max(pair_counts, key = pair_counts.get)\n",
        "top_val"
      ],
      "metadata": {
        "id": "wt-tqzXWiclT",
        "colab": {
          "base_uri": "https://localhost:8080/"
        },
        "outputId": "2237b78f-3344-4188-bd18-f75ad744eb14"
      },
      "execution_count": 5,
      "outputs": [
        {
          "output_type": "execute_result",
          "data": {
            "text/plain": [
              "(101, 32)"
            ]
          },
          "metadata": {},
          "execution_count": 5
        }
      ]
    },
    {
      "cell_type": "code",
      "source": [
        "def merge(tokens, pair, new_token_index):\n",
        "  new_ids=[]\n",
        "  i=0\n",
        "  while i<len(tokens):\n",
        "    if(i<len(tokens)-1 and tokens[i] == top_val[0] and tokens[i+1] == top_val[1]):\n",
        "      new_ids.append(new_token_index)\n",
        "      i += 2\n",
        "    else:\n",
        "      new_ids.append(tokens[i])\n",
        "      i+=1\n",
        "  return new_ids"
      ],
      "metadata": {
        "id": "aNVFqOo3iYMB"
      },
      "execution_count": 6,
      "outputs": []
    },
    {
      "cell_type": "code",
      "source": [
        "ids = merge(tokens, top_val, 256)\n",
        "len(ids)"
      ],
      "metadata": {
        "id": "YvGpAsbFiYI2",
        "colab": {
          "base_uri": "https://localhost:8080/"
        },
        "outputId": "84100f8b-28ea-4a88-d8f9-8129546d871c"
      },
      "execution_count": 7,
      "outputs": [
        {
          "output_type": "execute_result",
          "data": {
            "text/plain": [
              "596"
            ]
          },
          "metadata": {},
          "execution_count": 7
        }
      ]
    },
    {
      "cell_type": "code",
      "source": [
        "# making the training text longer to have more representative token statistics\n",
        "# text from https://www.reedbeta.com/blog/programmers-intro-to-unicode/\n",
        "text = \"\"\"A Programmer’s Introduction to Unicode March 3, 2017 · Coding · 22 Comments  Ｕｎｉｃｏｄｅ! 🅤🅝🅘🅒🅞🅓🅔‽ 🇺\\u200c🇳\\u200c🇮\\u200c🇨\\u200c🇴\\u200c🇩\\u200c🇪! 😄 The very name strikes fear and awe into the hearts of programmers worldwide. We all know we ought to “support Unicode” in our software (whatever that means—like using wchar_t for all the strings, right?). But Unicode can be abstruse, and diving into the thousand-page Unicode Standard plus its dozens of supplementary annexes, reports, and notes can be more than a little intimidating. I don’t blame programmers for still finding the whole thing mysterious, even 30 years after Unicode’s inception.  A few months ago, I got interested in Unicode and decided to spend some time learning more about it in detail. In this article, I’ll give an introduction to it from a programmer’s point of view.  I’m going to focus on the character set and what’s involved in working with strings and files of Unicode text. However, in this article I’m not going to talk about fonts, text layout/shaping/rendering, or localization in detail—those are separate issues, beyond my scope (and knowledge) here.  Diversity and Inherent Complexity The Unicode Codespace Codespace Allocation Scripts Usage Frequency Encodings UTF-8 UTF-16 Combining Marks Canonical Equivalence Normalization Forms Grapheme Clusters And More… Diversity and Inherent Complexity As soon as you start to study Unicode, it becomes clear that it represents a large jump in complexity over character sets like ASCII that you may be more familiar with. It’s not just that Unicode contains a much larger number of characters, although that’s part of it. Unicode also has a great deal of internal structure, features, and special cases, making it much more than what one might expect a mere “character set” to be. We’ll see some of that later in this article.  When confronting all this complexity, especially as an engineer, it’s hard not to find oneself asking, “Why do we need all this? Is this really necessary? Couldn’t it be simplified?”  However, Unicode aims to faithfully represent the entire world’s writing systems. The Unicode Consortium’s stated goal is “enabling people around the world to use computers in any language”. And as you might imagine, the diversity of written languages is immense! To date, Unicode supports 135 different scripts, covering some 1100 languages, and there’s still a long tail of over 100 unsupported scripts, both modern and historical, which people are still working to add.  Given this enormous diversity, it’s inevitable that representing it is a complicated project. Unicode embraces that diversity, and accepts the complexity inherent in its mission to include all human writing systems. It doesn’t make a lot of trade-offs in the name of simplification, and it makes exceptions to its own rules where necessary to further its mission.  Moreover, Unicode is committed not just to supporting texts in any single language, but also to letting multiple languages coexist within one text—which introduces even more complexity.  Most programming languages have libraries available to handle the gory low-level details of text manipulation, but as a programmer, you’ll still need to know about certain Unicode features in order to know when and how to apply them. It may take some time to wrap your head around it all, but don’t be discouraged—think about the billions of people for whom your software will be more accessible through supporting text in their language. Embrace the complexity!  The Unicode Codespace Let’s start with some general orientation. The basic elements of Unicode—its “characters”, although that term isn’t quite right—are called code points. Code points are identified by number, customarily written in hexadecimal with the prefix “U+”, such as U+0041 “A” latin capital letter a or U+03B8 “θ” greek small letter theta. Each code point also has a short name, and quite a few other properties, specified in the Unicode Character Database.  The set of all possible code points is called the codespace. The Unicode codespace consists of 1,114,112 code points. However, only 128,237 of them—about 12% of the codespace—are actually assigned, to date. There’s plenty of room for growth! Unicode also reserves an additional 137,468 code points as “private use” areas, which have no standardized meaning and are available for individual applications to define for their own purposes.  Codespace Allocation To get a feel for how the codespace is laid out, it’s helpful to visualize it. Below is a map of the entire codespace, with one pixel per code point. It’s arranged in tiles for visual coherence; each small square is 16×16 = 256 code points, and each large square is a “plane” of 65,536 code points. There are 17 planes altogether.  Map of the Unicode codespace (click to zoom)  White represents unassigned space. Blue is assigned code points, green is private-use areas, and the small red area is surrogates (more about those later). As you can see, the assigned code points are distributed somewhat sparsely, but concentrated in the first three planes.  Plane 0 is also known as the “Basic Multilingual Plane”, or BMP. The BMP contains essentially all the characters needed for modern text in any script, including Latin, Cyrillic, Greek, Han (Chinese), Japanese, Korean, Arabic, Hebrew, Devanagari (Indian), and many more.  (In the past, the codespace was just the BMP and no more—Unicode was originally conceived as a straightforward 16-bit encoding, with only 65,536 code points. It was expanded to its current size in 1996. However, the vast majority of code points in modern text belong to the BMP.)  Plane 1 contains historical scripts, such as Sumerian cuneiform and Egyptian hieroglyphs, as well as emoji and various other symbols. Plane 2 contains a large block of less-common and historical Han characters. The remaining planes are empty, except for a small number of rarely-used formatting characters in Plane 14; planes 15–16 are reserved entirely for private use.  Scripts Let’s zoom in on the first three planes, since that’s where the action is:  Map of scripts in Unicode planes 0–2 (click to zoom)  This map color-codes the 135 different scripts in Unicode. You can see how Han () and Korean () take up most of the range of the BMP (the left large square). By contrast, all of the European, Middle Eastern, and South Asian scripts fit into the first row of the BMP in this diagram.  Many areas of the codespace are adapted or copied from earlier encodings. For example, the first 128 code points of Unicode are just a copy of ASCII. This has clear benefits for compatibility—it’s easy to losslessly convert texts from smaller encodings into Unicode (and the other direction too, as long as no characters outside the smaller encoding are used).  Usage Frequency One more interesting way to visualize the codespace is to look at the distribution of usage—in other words, how often each code point is actually used in real-world texts. Below is a heat map of planes 0–2 based on a large sample of text from Wikipedia and Twitter (all languages). Frequency increases from black (never seen) through red and yellow to white.  Heat map of code point usage frequency in Unicode planes 0–2 (click to zoom)  You can see that the vast majority of this text sample lies in the BMP, with only scattered usage of code points from planes 1–2. The biggest exception is emoji, which show up here as the several bright squares in the bottom row of plane 1.  Encodings We’ve seen that Unicode code points are abstractly identified by their index in the codespace, ranging from U+0000 to U+10FFFF. But how do code points get represented as bytes, in memory or in a file?  The most convenient, computer-friendliest (and programmer-friendliest) thing to do would be to just store the code point index as a 32-bit integer. This works, but it consumes 4 bytes per code point, which is sort of a lot. Using 32-bit ints for Unicode will cost you a bunch of extra storage, memory, and performance in bandwidth-bound scenarios, if you work with a lot of text.  Consequently, there are several more-compact encodings for Unicode. The 32-bit integer encoding is officially called UTF-32 (UTF = “Unicode Transformation Format”), but it’s rarely used for storage. At most, it comes up sometimes as a temporary internal representation, for examining or operating on the code points in a string.  Much more commonly, you’ll see Unicode text encoded as either UTF-8 or UTF-16. These are both variable-length encodings, made up of 8-bit or 16-bit units, respectively. In these schemes, code points with smaller index values take up fewer bytes, which saves a lot of memory for typical texts. The trade-off is that processing UTF-8/16 texts is more programmatically involved, and likely slower.  UTF-8 In UTF-8, each code point is stored using 1 to 4 bytes, based on its index value.  UTF-8 uses a system of binary prefixes, in which the high bits of each byte mark whether it’s a single byte, the beginning of a multi-byte sequence, or a continuation byte; the remaining bits, concatenated, give the code point index. This table shows how it works:  UTF-8 (binary)\\tCode point (binary)\\tRange 0xxxxxxx\\txxxxxxx\\tU+0000–U+007F 110xxxxx 10yyyyyy\\txxxxxyyyyyy\\tU+0080–U+07FF 1110xxxx 10yyyyyy 10zzzzzz\\txxxxyyyyyyzzzzzz\\tU+0800–U+FFFF 11110xxx 10yyyyyy 10zzzzzz 10wwwwww\\txxxyyyyyyzzzzzzwwwwww\\tU+10000–U+10FFFF A handy property of UTF-8 is that code points below 128 (ASCII characters) are encoded as single bytes, and all non-ASCII code points are encoded using sequences of bytes 128–255. This has a couple of nice consequences. First, any strings or files out there that are already in ASCII can also be interpreted as UTF-8 without any conversion. Second, lots of widely-used string programming idioms—such as null termination, or delimiters (newlines, tabs, commas, slashes, etc.)—will just work on UTF-8 strings. ASCII bytes never occur inside the encoding of non-ASCII code points, so searching byte-wise for a null terminator or a delimiter will do the right thing.  Thanks to this convenience, it’s relatively simple to extend legacy ASCII programs and APIs to handle UTF-8 strings. UTF-8 is very widely used in the Unix/Linux and Web worlds, and many programmers argue UTF-8 should be the default encoding everywhere.  However, UTF-8 isn’t a drop-in replacement for ASCII strings in all respects. For instance, code that iterates over the “characters” in a string will need to decode UTF-8 and iterate over code points (or maybe grapheme clusters—more about those later), not bytes. When you measure the “length” of a string, you’ll need to think about whether you want the length in bytes, the length in code points, the width of the text when rendered, or something else.  UTF-16 The other encoding that you’re likely to encounter is UTF-16. It uses 16-bit words, with each code point stored as either 1 or 2 words.  Like UTF-8, we can express the UTF-16 encoding rules in the form of binary prefixes:  UTF-16 (binary)\\tCode point (binary)\\tRange xxxxxxxxxxxxxxxx\\txxxxxxxxxxxxxxxx\\tU+0000–U+FFFF 110110xxxxxxxxxx 110111yyyyyyyyyy\\txxxxxxxxxxyyyyyyyyyy + 0x10000\\tU+10000–U+10FFFF A more common way that people talk about UTF-16 encoding, though, is in terms of code points called “surrogates”. All the code points in the range U+D800–U+DFFF—or in other words, the code points that match the binary prefixes 110110 and 110111 in the table above—are reserved specifically for UTF-16 encoding, and don’t represent any valid characters on their own. They’re only meant to occur in the 2-word encoding pattern above, which is called a “surrogate pair”. Surrogate code points are illegal in any other context! They’re not allowed in UTF-8 or UTF-32 at all.  Historically, UTF-16 is a descendant of the original, pre-1996 versions of Unicode, in which there were only 65,536 code points. The original intention was that there would be no different “encodings”; Unicode was supposed to be a straightforward 16-bit character set. Later, the codespace was expanded to make room for a long tail of less-common (but still important) Han characters, which the Unicode designers didn’t originally plan for. Surrogates were then introduced, as—to put it bluntly—a kludge, allowing 16-bit encodings to access the new code points.  Today, Javascript uses UTF-16 as its standard string representation: if you ask for the length of a string, or iterate over it, etc., the result will be in UTF-16 words, with any code points outside the BMP expressed as surrogate pairs. UTF-16 is also used by the Microsoft Win32 APIs; though Win32 supports either 8-bit or 16-bit strings, the 8-bit version unaccountably still doesn’t support UTF-8—only legacy code-page encodings, like ANSI. This leaves UTF-16 as the only way to get proper Unicode support in Windows. (Update: in Win10 version 1903, they finally added UTF-8 support to the 8-bit APIs! 😊)  By the way, UTF-16’s words can be stored either little-endian or big-endian. Unicode has no opinion on that issue, though it does encourage the convention of putting U+FEFF zero width no-break space at the top of a UTF-16 file as a byte-order mark, to disambiguate the endianness. (If the file doesn’t match the system’s endianness, the BOM will be decoded as U+FFFE, which isn’t a valid code point.)  Combining Marks In the story so far, we’ve been focusing on code points. But in Unicode, a “character” can be more complicated than just an individual code point!  Unicode includes a system for dynamically composing characters, by combining multiple code points together. This is used in various ways to gain flexibility without causing a huge combinatorial explosion in the number of code points.  In European languages, for example, this shows up in the application of diacritics to letters. Unicode supports a wide range of diacritics, including acute and grave accents, umlauts, cedillas, and many more. All these diacritics can be applied to any letter of any alphabet—and in fact, multiple diacritics can be used on a single letter.  If Unicode tried to assign a distinct code point to every possible combination of letter and diacritics, things would rapidly get out of hand. Instead, the dynamic composition system enables you to construct the character you want, by starting with a base code point (the letter) and appending additional code points, called “combining marks”, to specify the diacritics. When a text renderer sees a sequence like this in a string, it automatically stacks the diacritics over or under the base letter to create a composed character.  For example, the accented character “Á” can be expressed as a string of two code points: U+0041 “A” latin capital letter a plus U+0301 “◌́” combining acute accent. This string automatically gets rendered as a single character: “Á”.  Now, Unicode does also include many “precomposed” code points, each representing a letter with some combination of diacritics already applied, such as U+00C1 “Á” latin capital letter a with acute or U+1EC7 “ệ” latin small letter e with circumflex and dot below. I suspect these are mostly inherited from older encodings that were assimilated into Unicode, and kept around for compatibility. In practice, there are precomposed code points for most of the common letter-with-diacritic combinations in European-script languages, so they don’t use dynamic composition that much in typical text.  Still, the system of combining marks does allow for an arbitrary number of diacritics to be stacked on any base character. The reductio-ad-absurdum of this is Zalgo text, which works by ͖͟ͅr͞aṋ̫̠̖͈̗d͖̻̹óm̪͙͕̗̝ļ͇̰͓̳̫ý͓̥̟͍ ̕s̫t̫̱͕̗̰̼̘͜a̼̩͖͇̠͈̣͝c̙͍k̖̱̹͍͘i̢n̨̺̝͇͇̟͙ģ̫̮͎̻̟ͅ ̕n̼̺͈͞u̮͙m̺̭̟̗͞e̞͓̰̤͓̫r̵o̖ṷs҉̪͍̭̬̝̤ ̮͉̝̞̗̟͠d̴̟̜̱͕͚i͇̫̼̯̭̜͡ḁ͙̻̼c̲̲̹r̨̠̹̣̰̦i̱t̤̻̤͍͙̘̕i̵̜̭̤̱͎c̵s ͘o̱̲͈̙͖͇̲͢n͘ ̜͈e̬̲̠̩ac͕̺̠͉h̷̪ ̺̣͖̱ḻ̫̬̝̹ḙ̙̺͙̭͓̲t̞̞͇̲͉͍t̷͔̪͉̲̻̠͙e̦̻͈͉͇r͇̭̭̬͖,̖́ ̜͙͓̣̭s̘̘͈o̱̰̤̲ͅ ̛̬̜̙t̼̦͕̱̹͕̥h̳̲͈͝ͅa̦t̻̲ ̻̟̭̦̖t̛̰̩h̠͕̳̝̫͕e͈̤̘͖̞͘y҉̝͙ ̷͉͔̰̠o̞̰v͈͈̳̘͜er̶f̰͈͔ḻ͕̘̫̺̲o̲̭͙͠ͅw̱̳̺ ͜t̸h͇̭͕̳͍e̖̯̟̠ ͍̞̜͔̩̪͜ļ͎̪̲͚i̝̲̹̙̩̹n̨̦̩̖ḙ̼̲̼͢ͅ ̬͝s̼͚̘̞͝p͙̘̻a̙c҉͉̜̤͈̯̖i̥͡n̦̠̱͟g̸̗̻̦̭̮̟ͅ ̳̪̠͖̳̯̕a̫͜n͝d͡ ̣̦̙ͅc̪̗r̴͙̮̦̹̳e͇͚̞͔̹̫͟a̙̺̙ț͔͎̘̹ͅe̥̩͍ a͖̪̜̮͙̹n̢͉̝ ͇͉͓̦̼́a̳͖̪̤̱p̖͔͔̟͇͎͠p̱͍̺ę̲͎͈̰̲̤̫a̯͜r̨̮̫̣̘a̩̯͖n̹̦̰͎̣̞̞c̨̦̱͔͎͍͖e̬͓͘ ̤̰̩͙̤̬͙o̵̼̻̬̻͇̮̪f̴ ̡̙̭͓͖̪̤“̸͙̠̼c̳̗͜o͏̼͙͔̮r̞̫̺̞̥̬ru̺̻̯͉̭̻̯p̰̥͓̣̫̙̤͢t̳͍̳̖ͅi̶͈̝͙̼̙̹o̡͔n̙̺̹̖̩͝ͅ”̨̗͖͚̩.̯͓  A few other places where dynamic character composition shows up in Unicode:  Vowel-pointing notation in Arabic and Hebrew. In these languages, words are normally spelled with some of their vowels left out. They then have diacritic notation to indicate the vowels (used in dictionaries, language-teaching materials, children’s books, and such). These diacritics are expressed with combining marks.  A Hebrew example, with niqqud:\\tאֶת דַלְתִּי הֵזִיז הֵנִיעַ, קֶטֶב לִשְׁכַּתִּי יָשׁוֹד Normal writing (no niqqud):\\tאת דלתי הזיז הניע, קטב לשכתי ישוד Devanagari, the script used to write Hindi, Sanskrit, and many other South Asian languages, expresses certain vowels as combining marks attached to consonant letters. For example, “ह” + “\\u200bि” = “हि” (“h” + “i” = “hi”). Korean characters stand for syllables, but they are composed of letters called jamo that stand for the vowels and consonants in the syllable. While there are code points for precomposed Korean syllables, it’s also possible to dynamically compose them by concatenating their jamo. For example, “ᄒ” + “ᅡ” + “ᆫ” = “한” (“h” + “a” + “n” = “han”). Canonical Equivalence In Unicode, precomposed characters exist alongside the dynamic composition system. A consequence of this is that there are multiple ways to express “the same” string—different sequences of code points that result in the same user-perceived characters. For example, as we saw earlier, we can express the character “Á” either as the single code point U+00C1, or as the string of two code points U+0041 U+0301.  Another source of ambiguity is the ordering of multiple diacritics in a single character. Diacritic order matters visually when two diacritics apply to the same side of the base character, e.g. both above: “ǡ” (dot, then macron) is different from “ā̇” (macron, then dot). However, when diacritics apply to different sides of the character, e.g. one above and one below, then the order doesn’t affect rendering. Moreover, a character with multiple diacritics might have one of the diacritics precomposed and others expressed as combining marks.  For example, the Vietnamese letter “ệ” can be expressed in five different ways:  Fully precomposed: U+1EC7 “ệ” Partially precomposed: U+1EB9 “ẹ” + U+0302 “◌̂” Partially precomposed: U+00EA “ê” + U+0323 “◌̣” Fully decomposed: U+0065 “e” + U+0323 “◌̣” + U+0302 “◌̂” Fully decomposed: U+0065 “e” + U+0302 “◌̂” + U+0323 “◌̣” Unicode refers to set of strings like this as “canonically equivalent”. Canonically equivalent strings are supposed to be treated as identical for purposes of searching, sorting, rendering, text selection, and so on. This has implications for how you implement operations on text. For example, if an app has a “find in file” operation and the user searches for “ệ”, it should, by default, find occurrences of any of the five versions of “ệ” above!  Normalization Forms To address the problem of “how to handle canonically equivalent strings”, Unicode defines several normalization forms: ways of converting strings into a canonical form so that they can be compared code-point-by-code-point (or byte-by-byte).  The “NFD” normalization form fully decomposes every character down to its component base and combining marks, taking apart any precomposed code points in the string. It also sorts the combining marks in each character according to their rendered position, so e.g. diacritics that go below the character come before the ones that go above the character. (It doesn’t reorder diacritics in the same rendered position, since their order matters visually, as previously mentioned.)  The “NFC” form, conversely, puts things back together into precomposed code points as much as possible. If an unusual combination of diacritics is called for, there may not be any precomposed code point for it, in which case NFC still precomposes what it can and leaves any remaining combining marks in place (again ordered by rendered position, as in NFD).  There are also forms called NFKD and NFKC. The “K” here refers to compatibility decompositions, which cover characters that are “similar” in some sense but not visually identical. However, I’m not going to cover that here.  Grapheme Clusters As we’ve seen, Unicode contains various cases where a thing that a user thinks of as a single “character” might actually be made up of multiple code points under the hood. Unicode formalizes this using the notion of a grapheme cluster: a string of one or more code points that constitute a single “user-perceived character”.  UAX #29 defines the rules for what, precisely, qualifies as a grapheme cluster. It’s approximately “a base code point followed by any number of combining marks”, but the actual definition is a bit more complicated; it accounts for things like Korean jamo, and emoji ZWJ sequences.  The main thing grapheme clusters are used for is text editing: they’re often the most sensible unit for cursor placement and text selection boundaries. Using grapheme clusters for these purposes ensures that you can’t accidentally chop off some diacritics when you copy-and-paste text, that left/right arrow keys always move the cursor by one visible character, and so on.  Another place where grapheme clusters are useful is in enforcing a string length limit—say, on a database field. While the true, underlying limit might be something like the byte length of the string in UTF-8, you wouldn’t want to enforce that by just truncating bytes. At a minimum, you’d want to “round down” to the nearest code point boundary; but even better, round down to the nearest grapheme cluster boundary. Otherwise, you might be corrupting the last character by cutting off a diacritic, or interrupting a jamo sequence or ZWJ sequence.  And More… There’s much more that could be said about Unicode from a programmer’s perspective! I haven’t gotten into such fun topics as case mapping, collation, compatibility decompositions and confusables, Unicode-aware regexes, or bidirectional text. Nor have I said anything yet about implementation issues—how to efficiently store and look-up data about the sparsely-assigned code points, or how to optimize UTF-8 decoding, string comparison, or NFC normalization. Perhaps I’ll return to some of those things in future posts.  Unicode is a fascinating and complex system. It has a many-to-one mapping between bytes and code points, and on top of that a many-to-one (or, under some circumstances, many-to-many) mapping between code points and “characters”. It has oddball special cases in every corner. But no one ever claimed that representing all written languages was going to be easy, and it’s clear that we’re never going back to the bad old days of a patchwork of incompatible encodings.  Further reading:  The Unicode Standard UTF-8 Everywhere Manifesto Dark corners of Unicode by Eevee ICU (International Components for Unicode)—C/C++/Java libraries implementing many Unicode algorithms and related things Python 3 Unicode Howto Google Noto Fonts—set of fonts intended to cover all assigned code points\"\"\"\n",
        "tokens = text.encode(\"utf-8\") # raw bytes\n",
        "tokens = list(map(int, tokens)) # convert to a list of integers in range 0..255 for convenience"
      ],
      "metadata": {
        "id": "7JMxBA9n66PP"
      },
      "execution_count": 8,
      "outputs": []
    },
    {
      "cell_type": "code",
      "source": [
        "pair_counts = count_adjacent_pairs(tokens)\n",
        "print(sorted(((v,k) for k,v in pair_counts.items()), reverse=True))\n"
      ],
      "metadata": {
        "colab": {
          "base_uri": "https://localhost:8080/"
        },
        "id": "LNgAH5F41PEH",
        "outputId": "ab91d852-bd1f-43ae-a624-9ba80bc08f73"
      },
      "execution_count": 9,
      "outputs": [
        {
          "output_type": "stream",
          "name": "stdout",
          "text": [
            "[(646, (101, 32)), (446, (105, 110)), (424, (115, 32)), (405, (32, 116)), (377, (32, 97)), (337, (116, 104)), (294, (101, 114)), (290, (99, 111)), (285, (116, 32)), (279, (104, 101)), (267, (32, 99)), (255, (114, 101)), (254, (226, 128)), (243, (44, 32)), (241, (110, 32)), (232, (100, 101)), (230, (32, 105)), (229, (97, 110)), (222, (32, 115)), (221, (116, 101)), (220, (32, 111)), (218, (111, 114)), (213, (100, 32)), (200, (110, 103)), (193, (114, 32)), (191, (101, 115)), (183, (111, 100)), (181, (97, 114)), (176, (110, 116)), (176, (105, 116)), (174, (101, 110)), (173, (111, 110)), (168, (116, 105)), (154, (121, 32)), (154, (97, 116)), (154, (46, 32)), (153, (108, 101)), (152, (32, 112)), (146, (115, 101)), (146, (105, 99)), (146, (97, 108)), (137, (111, 32)), (137, (110, 100)), (131, (115, 116)), (131, (97, 99)), (128, (101, 100)), (127, (32, 119)), (127, (32, 85)), (124, (116, 111)), (123, (112, 111)), (122, (32, 98)), (120, (114, 105)), (117, (104, 97)), (116, (111, 102)), (116, (102, 32)), (114, (111, 109)), (111, (103, 32)), (109, (32, 109)), (108, (32, 101)), (107, (108, 108)), (107, (97, 115)), (106, (114, 97)), (102, (116, 115)), (102, (32, 102)), (98, (110, 105)), (97, (32, 100)), (96, (105, 115)), (93, (97, 32)), (91, (118, 101)), (90, (32, 108)), (89, (99, 104)), (88, (111, 117)), (88, (100, 105)), (87, (108, 32)), (81, (109, 97)), (78, (120, 120)), (76, (105, 111)), (76, (104, 32)), (75, (115, 105)), (75, (111, 105)), (75, (101, 120)), (73, (99, 97)), (71, (128, 157)), (71, (128, 156)), (71, (115, 44)), (71, (110, 101)), (71, (104, 105)), (71, (99, 101)), (70, (112, 108)), (70, (109, 112)), (69, (109, 101)), (69, (108, 121)), (69, (108, 97)), (68, (99, 116)), (68, (32, 226)), (66, (117, 115)), (64, (128, 153)), (64, (110, 99)), (64, (32, 32)), (63, (102, 111)), (62, (114, 111)), (61, (112, 114)), (61, (32, 114)), (60, (114, 115)), (60, (101, 97)), (60, (85, 110)), (58, (108, 105)), (57, (111, 119)), (55, (98, 105)), (54, (117, 116)), (54, (116, 97)), (54, (111, 115)), (53, (157, 32)), (53, (103, 101)), (53, (101, 116)), (52, (32, 110)), (51, (98, 101)), (50, (116, 114)), (49, (110, 97)), (48, (121, 121)), (47, (115, 111)), (47, (109, 111)), (47, (97, 109)), (46, (105, 108)), (46, (32, 117)), (46, (32, 104)), (46, (32, 84)), (45, (105, 97)), (44, (101, 99)), (43, (101, 108)), (42, (101, 109)), (41, (119, 105)), (41, (112, 97)), (41, (110, 111)), (41, (32, 49)), (40, (115, 117)), (40, (111, 116)), (40, (99, 114)), (40, (97, 98)), (40, (85, 84)), (40, (84, 104)), (40, (84, 70)), (39, (115, 115)), (39, (85, 43)), (39, (70, 45)), (39, (32, 40)), (38, (97, 112)), (37, (119, 104)), (37, (115, 46)), (37, (110, 115)), (37, (102, 105)), (36, (114, 116)), (36, (101, 44)), (36, (98, 121)), (36, (32, 73)), (35, (117, 97)), (35, (116, 116)), (35, (112, 101)), (34, (117, 114)), (34, (117, 108)), (34, (104, 111)), (34, (32, 65)), (32, (108, 111)), (32, (105, 100)), (32, (48, 48)), (32, (32, 103)), (31, (119, 101)), (31, (115, 112)), (31, (97, 103)), (30, (109, 105)), (30, (109, 32)), (30, (105, 103)), (30, (97, 105)), (29, (153, 115)), (29, (120, 116)), (29, (119, 32)), (29, (109, 98)), (29, (105, 101)), (28, (119, 111)), (28, (113, 117)), (28, (110, 121)), (28, (103, 115)), (28, (101, 118)), (28, (98, 111)), (28, (32, 118)), (27, (117, 110)), (27, (105, 118)), (26, (114, 121)), (26, (114, 109)), (26, (112, 112)), (26, (105, 109)), (26, (101, 46)), (26, (98, 108)), (26, (32, 121)), (25, (128, 148)), (25, (121, 111)), (25, (119, 97)), (25, (117, 112)), (25, (116, 121)), (25, (114, 100)), (25, (103, 114)), (25, (101, 226)), (25, (101, 101)), (25, (49, 54)), (24, (118, 97)), (24, (116, 226)), (24, (112, 116)), (24, (111, 112)), (24, (100, 111)), (24, (49, 48)), (24, (43, 48)), (23, (111, 103)), (22, (121, 116)), (22, (117, 101)), (22, (114, 107)), (22, (105, 114)), (22, (103, 104)), (22, (99, 108)), (22, (45, 56)), (22, (32, 67)), (21, (115, 97)), (21, (114, 44)), (21, (112, 32)), (21, (110, 226)), (21, (108, 117)), (21, (105, 112)), (21, (70, 70)), (21, (56, 32)), (20, (122, 122)), (20, (109, 109)), (20, (107, 101)), (20, (107, 32)), (20, (105, 102)), (20, (99, 115)), (20, (54, 32)), (20, (32, 70)), (19, (153, 204)), (19, (117, 99)), (19, (111, 118)), (19, (108, 115)), (19, (102, 101)), (19, (101, 112)), (19, (101, 102)), (19, (58, 32)), (19, (49, 49)), (19, (45, 98)), (18, (205, 153)), (18, (204, 178)), (18, (153, 116)), (18, (117, 32)), (18, (116, 44)), (18, (107, 115)), (18, (103, 117)), (18, (97, 100)), (18, (32, 72)), (18, (32, 66)), (17, (121, 115)), (17, (115, 99)), (17, (108, 100)), (17, (105, 98)), (17, (101, 113)), (17, (101, 105)), (17, (100, 97)), (17, (97, 121)), (17, (67, 111)), (17, (41, 32)), (16, (240, 159)), (16, (204, 171)), (16, (121, 44)), (16, (117, 109)), (16, (110, 44)), (16, (108, 116)), (16, (99, 117)), (16, (99, 105)), (16, (98, 97)), (16, (45, 49)), (16, (32, 77)), (15, (205, 136)), (15, (204, 185)), (15, (115, 121)), (15, (101, 45)), (15, (73, 110)), (15, (32, 87)), (14, (205, 150)), (14, (205, 135)), (14, (204, 188)), (14, (204, 187)), (14, (204, 177)), (14, (204, 173)), (14, (204, 164)), (14, (116, 46)), (14, (115, 226)), (14, (112, 105)), (14, (109, 117)), (14, (104, 116)), (14, (103, 111)), (14, (102, 114)), (14, (102, 102)), (14, (98, 117)), (14, (97, 118)), (14, (50, 32)), (14, (32, 204)), (13, (204, 186)), (13, (204, 179)), (13, (204, 176)), (13, (204, 166)), (13, (204, 158)), (13, (204, 153)), (13, (128, 147)), (13, (120, 112)), (13, (118, 105)), (13, (111, 111)), (13, (103, 97)), (13, (103, 44)), (13, (99, 99)), (13, (73, 32)), (13, (43, 32)), (13, (32, 106)), (13, (32, 69)), (13, (32, 43)), (12, (205, 141)), (12, (204, 170)), (12, (204, 160)), (12, (187, 204)), (12, (120, 32)), (12, (114, 114)), (12, (114, 110)), (12, (114, 46)), (12, (109, 115)), (12, (105, 122)), (12, (105, 107)), (12, (70, 111)), (12, (32, 215)), (12, (32, 83)), (11, (205, 148)), (11, (205, 147)), (11, (205, 133)), (11, (204, 169)), (11, (204, 163)), (11, (204, 152)), (11, (204, 150)), (11, (150, 204)), (11, (120, 105)), (11, (120, 97)), (11, (116, 117)), (11, (114, 117)), (11, (114, 99)), (11, (112, 104)), (11, (110, 117)), (11, (103, 108)), (11, (101, 119)), (11, (73, 116)), (11, (41, 46)), (11, (32, 78)), (10, (215, 153)), (10, (205, 149)), (10, (205, 137)), (10, (204, 172)), (10, (204, 159)), (10, (204, 157)), (10, (166, 204)), (10, (119, 119)), (10, (111, 99)), (10, (103, 105)), (10, (101, 121)), (10, (100, 121)), (10, (99, 32)), (10, (51, 50)), (10, (48, 226)), (10, (48, 51)), (10, (33, 32)), (10, (32, 80)), (9, (204, 175)), (9, (204, 174)), (9, (204, 156)), (9, (204, 151)), (9, (188, 204)), (9, (186, 204)), (9, (179, 204)), (9, (176, 204)), (9, (173, 204)), (9, (171, 204)), (9, (156, 226)), (9, (156, 225)), (9, (135, 204)), (9, (121, 45)), (9, (117, 103)), (9, (117, 100)), (9, (116, 204)), (9, (115, 104)), (9, (112, 117)), (9, (111, 108)), (9, (111, 101)), (9, (110, 118)), (9, (110, 46)), (9, (106, 117)), (9, (102, 116)), (9, (100, 44)), (9, (99, 107)), (9, (98, 114)), (9, (97, 107)), (9, (83, 67)), (9, (73, 73)), (9, (67, 73)), (9, (65, 83)), (9, (49, 32)), (8, (205, 142)), (8, (178, 204)), (8, (164, 204)), (8, (156, 99)), (8, (149, 204)), (8, (147, 204)), (8, (136, 204)), (8, (122, 101)), (8, (119, 114)), (8, (117, 105)), (8, (115, 110)), (8, (115, 109)), (8, (114, 226)), (8, (114, 108)), (8, (110, 108)), (8, (103, 110)), (8, (103, 46)), (8, (102, 117)), (8, (100, 117)), (8, (100, 115)), (8, (97, 204)), (8, (77, 80)), (8, (72, 111)), (8, (70, 32)), (8, (66, 77)), (8, (65, 32)), (8, (45, 112)), (8, (43, 49)), (8, (32, 107)), (7, (226, 151)), (7, (205, 156)), (7, (178, 205)), (7, (163, 204)), (7, (159, 205)), (7, (159, 135)), (7, (159, 133)), (7, (158, 204)), (7, (157, 46)), (7, (157, 44)), (7, (153, 205)), (7, (151, 140)), (7, (150, 205)), (7, (147, 85)), (7, (140, 204)), (7, (137, 204)), (7, (119, 110)), (7, (116, 119)), (7, (116, 108)), (7, (114, 103)), (7, (111, 204)), (7, (110, 204)), (7, (103, 116)), (7, (102, 97)), (7, (101, 111)), (7, (101, 103)), (7, (100, 108)), (7, (100, 100)), (7, (87, 104)), (7, (78, 70)), (7, (77, 97)), (7, (59, 32)), (7, (48, 49)), (7, (48, 32)), (7, (32, 68)), (6, (239, 189)), (6, (215, 170)), (6, (205, 157)), (6, (204, 168)), (6, (204, 165)), (6, (185, 204)), (6, (177, 205)), (6, (170, 204)), (6, (168, 204)), (6, (160, 205)), (6, (157, 204)), (6, (156, 204)), (6, (153, 108)), (6, (152, 204)), (6, (148, 204)), (6, (148, 97)), (6, (140, 240)), (6, (135, 226)), (6, (128, 140)), (6, (122, 97)), (6, (121, 110)), (6, (120, 101)), (6, (118, 111)), (6, (115, 58)), (6, (114, 204)), (6, (114, 45)), (6, (107, 105)), (6, (105, 204)), (6, (105, 120)), (6, (101, 204)), (6, (100, 58)), (6, (99, 204)), (6, (99, 121)), (6, (97, 117)), (6, (78, 111)), (6, (61, 32)), (6, (54, 45)), (6, (51, 48)), (6, (49, 50)), (6, (48, 120)), (6, (32, 61)), (6, (32, 51)), (6, (32, 50)), (6, (32, 48)), (6, (9, 120)), (6, (9, 85)), (5, (225, 187)), (5, (225, 184)), (5, (214, 180)), (5, (205, 154)), (5, (205, 152)), (5, (188, 205)), (5, (187, 135)), (5, (177, 204)), (5, (172, 204)), (5, (160, 204)), (5, (158, 205)), (5, (157, 205)), (5, (156, 195)), (5, (156, 104)), (5, (156, 101)), (5, (153, 215)), (5, (153, 114)), (5, (153, 32)), (5, (147, 50)), (5, (137, 205)), (5, (136, 205)), (5, (129, 226)), (5, (121, 226)), (5, (121, 41)), (5, (117, 226)), (5, (116, 99)), (5, (115, 108)), (5, (111, 45)), (5, (107, 110)), (5, (101, 41)), (5, (100, 46)), (5, (87, 105)), (5, (80, 108)), (5, (80, 32)), (5, (77, 111)), (5, (75, 111)), (5, (73, 226)), (5, (65, 115)), (5, (65, 110)), (5, (55, 32)), (5, (54, 53)), (5, (45, 111)), (5, (45, 99)), (5, (45, 97)), (5, (40, 98)), (5, (40, 97)), (5, (40, 73)), (5, (32, 205)), (5, (32, 122)), (5, (32, 76)), (5, (32, 75)), (5, (32, 71)), (4, (224, 164)), (4, (215, 169)), (4, (215, 156)), (4, (215, 150)), (4, (215, 148)), (4, (215, 147)), (4, (204, 181)), (4, (204, 149)), (4, (195, 129)), (4, (175, 205)), (4, (175, 204)), (4, (174, 205)), (4, (174, 204)), (4, (173, 205)), (4, (172, 205)), (4, (170, 205)), (4, (169, 205)), (4, (169, 204)), (4, (164, 205)), (4, (159, 204)), (4, (156, 205)), (4, (156, 115)), (4, (153, 109)), (4, (152, 205)), (4, (151, 204)), (4, (142, 204)), (4, (141, 204)), (4, (135, 205)), (4, (133, 32)), (4, (122, 111)), (4, (121, 112)), (4, (121, 46)), (4, (120, 121)), (4, (120, 9)), (4, (119, 115)), (4, (115, 113)), (4, (114, 112)), (4, (111, 106)), (4, (110, 110)), (4, (110, 107)), (4, (110, 104)), (4, (110, 102)), (4, (109, 46)), (4, (108, 44)), (4, (106, 97)), (4, (104, 114)), (4, (101, 98)), (4, (98, 115)), (4, (87, 101)), (4, (85, 115)), (4, (84, 111)), (4, (73, 115)), (4, (72, 101)), (4, (72, 97)), (4, (70, 117)), (4, (66, 117)), (4, (65, 108)), (4, (56, 45)), (4, (56, 44)), (4, (53, 32)), (4, (51, 32)), (4, (50, 56)), (4, (50, 51)), (4, (50, 45)), (4, (46, 41)), (4, (45, 119)), (4, (45, 117)), (4, (45, 116)), (4, (43, 70)), (4, (41, 44)), (4, (41, 9)), (4, (32, 240)), (4, (32, 56)), (3, (214, 188)), (3, (214, 183)), (3, (214, 182)), (3, (210, 137)), (3, (205, 162)), (3, (205, 161)), (3, (205, 160)), (3, (205, 159)), (3, (205, 158)), (3, (204, 184)), (3, (204, 183)), (3, (204, 180)), (3, (204, 130)), (3, (204, 129)), (3, (188, 215)), (3, (187, 205)), (3, (185, 205)), (3, (182, 215)), (3, (180, 215)), (3, (179, 205)), (3, (176, 205)), (3, (171, 205)), (3, (170, 32)), (3, (169, 215)), (3, (165, 204)), (3, (163, 226)), (3, (157, 41)), (3, (156, 112)), (3, (156, 97)), (3, (154, 204)), (3, (153, 118)), (3, (151, 205)), (3, (148, 205)), (3, (148, 116)), (3, (148, 115)), (3, (148, 105)), (3, (147, 32)), (3, (142, 205)), (3, (141, 205)), (3, (130, 226)), (3, (121, 108)), (3, (121, 101)), (3, (121, 9)), (3, (120, 99)), (3, (119, 46)), (3, (119, 44)), (3, (116, 41)), (3, (115, 204)), (3, (115, 107)), (3, (114, 119)), (3, (114, 118)), (3, (114, 41)), (3, (112, 204)), (3, (111, 107)), (3, (111, 44)), (3, (110, 45)), (3, (110, 41)), (3, (109, 226)), (3, (109, 41)), (3, (108, 46)), (3, (106, 105)), (3, (105, 44)), (3, (105, 32)), (3, (104, 226)), (3, (104, 204)), (3, (101, 58)), (3, (101, 33)), (3, (100, 226)), (3, (100, 116)), (3, (100, 114)), (3, (100, 110)), (3, (100, 45)), (3, (99, 44)), (3, (97, 119)), (3, (83, 117)), (3, (83, 116)), (3, (80, 73)), (3, (74, 97)), (3, (73, 102)), (3, (71, 114)), (3, (70, 114)), (3, (70, 67)), (3, (69, 117)), (3, (68, 105)), (3, (67, 97)), (3, (65, 80)), (3, (63, 32)), (3, (56, 48)), (3, (54, 46)), (3, (53, 51)), (3, (53, 44)), (3, (52, 49)), (3, (51, 54)), (3, (49, 69)), (3, (49, 57)), (3, (49, 51)), (3, (48, 121)), (3, (48, 70)), (3, (48, 52)), (3, (48, 50)), (3, (46, 103)), (3, (44, 53)), (3, (40, 111)), (3, (40, 110)), (3, (40, 99)), (3, (32, 113)), (3, (32, 90)), (3, (32, 54)), (2, (225, 185)), (2, (215, 167)), (2, (215, 162)), (2, (215, 160)), (2, (215, 155)), (2, (215, 152)), (2, (215, 149)), (2, (215, 145)), (2, (215, 144)), (2, (215, 129)), (2, (214, 181)), (2, (214, 176)), (2, (204, 182)), (2, (204, 162)), (2, (204, 161)), (2, (204, 155)), (2, (196, 188)), (2, (194, 183)), (2, (191, 226)), (2, (188, 99)), (2, (186, 205)), (2, (185, 226)), (2, (185, 110)), (2, (184, 187)), (2, (184, 153)), (2, (183, 205)), (2, (183, 32)), (2, (181, 215)), (2, (181, 204)), (2, (180, 214)), (2, (176, 215)), (2, (170, 215)), (2, (170, 214)), (2, (166, 32)), (2, (165, 205)), (2, (164, 191)), (2, (164, 185)), (2, (163, 205)), (2, (162, 205)), (2, (162, 110)), (2, (161, 226)), (2, (159, 152)), (2, (156, 224)), (2, (156, 215)), (2, (156, 214)), (2, (156, 196)), (2, (156, 116)), (2, (156, 114)), (2, (156, 110)), (2, (156, 85)), (2, (156, 78)), (2, (156, 65)), (2, (155, 204)), (2, (154, 105)), (2, (152, 32)), (2, (150, 225)), (2, (150, 32)), (2, (148, 215)), (2, (148, 214)), (2, (148, 119)), (2, (148, 111)), (2, (147, 205)), (2, (145, 32)), (2, (141, 32)), (2, (129, 215)), (2, (128, 166)), (2, (122, 9)), (2, (121, 122)), (2, (121, 119)), (2, (119, 116)), (2, (119, 108)), (2, (119, 9)), (2, (117, 204)), (2, (116, 102)), (2, (116, 47)), (2, (116, 33)), (2, (115, 45)), (2, (115, 41)), (2, (114, 205)), (2, (114, 58)), (2, (113, 113)), (2, (112, 121)), (2, (110, 205)), (2, (110, 51)), (2, (109, 204)), (2, (109, 121)), (2, (109, 44)), (2, (108, 118)), (2, (108, 114)), (2, (108, 112)), (2, (108, 107)), (2, (108, 103)), (2, (108, 45)), (2, (107, 44)), (2, (106, 111)), (2, (105, 226)), (2, (105, 113)), (2, (104, 117)), (2, (104, 115)), (2, (104, 45)), (2, (103, 58)), (2, (102, 204)), (2, (102, 108)), (2, (101, 205)), (2, (101, 107)), (2, (101, 59)), (2, (100, 205)), (2, (100, 119)), (2, (100, 103)), (2, (100, 41)), (2, (99, 46)), (2, (97, 106)), (2, (97, 102)), (2, (90, 87)), (2, (89, 111)), (2, (87, 74)), (2, (83, 111)), (2, (83, 99)), (2, (82, 97)), (2, (80, 97)), (2, (80, 46)), (2, (77, 117)), (2, (77, 105)), (2, (76, 105)), (2, (76, 101)), (2, (76, 97)), (2, (74, 32)), (2, (73, 46)), (2, (72, 105)), (2, (70, 75)), (2, (70, 69)), (2, (70, 68)), (2, (69, 113)), (2, (69, 110)), (2, (69, 97)), (2, (69, 67)), (2, (68, 101)), (2, (68, 97)), (2, (67, 108)), (2, (67, 104)), (2, (67, 55)), (2, (67, 49)), (2, (67, 32)), (2, (66, 121)), (2, (66, 101)), (2, (65, 226)), (2, (65, 116)), (2, (65, 114)), (2, (58, 9)), (2, (57, 57)), (2, (57, 54)), (2, (57, 32)), (2, (56, 226)), (2, (55, 70)), (2, (52, 32)), (2, (51, 55)), (2, (51, 53)), (2, (51, 44)), (2, (50, 53)), (2, (49, 55)), (2, (49, 52)), (2, (49, 46)), (2, (49, 44)), (2, (48, 122)), (2, (48, 67)), (2, (48, 56)), (2, (48, 55)), (2, (48, 54)), (2, (47, 114)), (2, (45, 108)), (2, (45, 102)), (2, (45, 101)), (2, (45, 65)), (2, (45, 51)), (2, (44, 49)), (2, (43, 68)), (2, (41, 226)), (2, (40, 226)), (2, (40, 116)), (2, (40, 109)), (2, (40, 85)), (2, (40, 41)), (2, (32, 194)), (2, (32, 89)), (2, (32, 86)), (2, (32, 79)), (2, (32, 74)), (2, (32, 52)), (2, (9, 215)), (2, (9, 82)), (2, (9, 67)), (1, (239, 188)), (1, (237, 149)), (1, (225, 186)), (1, (225, 134)), (1, (225, 133)), (1, (225, 132)), (1, (214, 185)), (1, (214, 184)), (1, (206, 184)), (1, (205, 143)), (1, (204, 135)), (1, (200, 155)), (1, (199, 161)), (1, (196, 163)), (1, (196, 153)), (1, (196, 129)), (1, (195, 189)), (1, (195, 179)), (1, (195, 170)), (1, (195, 151)), (1, (189, 205)), (1, (189, 143)), (1, (189, 142)), (1, (189, 137)), (1, (189, 133)), (1, (189, 132)), (1, (189, 131)), (1, (189, 32)), (1, (188, 181)), (1, (187, 97)), (1, (186, 226)), (1, (186, 196)), (1, (186, 185)), (1, (186, 32)), (1, (185, 225)), (1, (185, 224)), (1, (185, 215)), (1, (185, 195)), (1, (185, 183)), (1, (185, 139)), (1, (185, 114)), (1, (185, 111)), (1, (184, 226)), (1, (184, 215)), (1, (184, 205)), (1, (184, 204)), (1, (184, 129)), (1, (184, 104)), (1, (183, 215)), (1, (183, 214)), (1, (183, 204)), (1, (183, 115)), (1, (183, 44)), (1, (182, 205)), (1, (182, 102)), (1, (181, 239)), (1, (181, 115)), (1, (181, 111)), (1, (180, 226)), (1, (180, 205)), (1, (180, 204)), (1, (180, 32)), (1, (179, 226)), (1, (179, 109)), (1, (179, 101)), (1, (178, 116)), (1, (178, 111)), (1, (178, 32)), (1, (177, 225)), (1, (177, 116)), (1, (177, 112)), (1, (176, 118)), (1, (175, 112)), (1, (174, 226)), (1, (174, 114)), (1, (173, 115)), (1, (172, 114)), (1, (171, 226)), (1, (171, 195)), (1, (171, 116)), (1, (171, 114)), (1, (171, 97)), (1, (170, 226)), (1, (170, 102)), (1, (170, 33)), (1, (169, 226)), (1, (169, 214)), (1, (169, 104)), (1, (169, 97)), (1, (169, 46)), (1, (168, 226)), (1, (167, 215)), (1, (167, 214)), (1, (166, 205)), (1, (166, 116)), (1, (166, 105)), (1, (165, 104)), (1, (164, 240)), (1, (164, 226)), (1, (164, 32)), (1, (162, 214)), (1, (162, 116)), (1, (162, 44)), (1, (161, 225)), (1, (161, 205)), (1, (161, 204)), (1, (161, 110)), (1, (161, 32)), (1, (160, 215)), (1, (160, 214)), (1, (160, 112)), (1, (160, 111)), (1, (160, 100)), (1, (160, 32)), (1, (159, 103)), (1, (159, 97)), (1, (158, 240)), (1, (158, 117)), (1, (158, 101)), (1, (158, 99)), (1, (158, 97)), (1, (157, 240)), (1, (157, 196)), (1, (157, 115)), (1, (157, 112)), (1, (157, 100)), (1, (157, 99)), (1, (157, 59)), (1, (156, 237)), (1, (156, 206)), (1, (156, 199)), (1, (156, 117)), (1, (156, 111)), (1, (156, 108)), (1, (156, 105)), (1, (156, 102)), (1, (156, 87)), (1, (156, 75)), (1, (156, 66)), (1, (155, 215)), (1, (155, 214)), (1, (155, 205)), (1, (153, 214)), (1, (153, 200)), (1, (153, 196)), (1, (153, 111)), (1, (153, 101)), (1, (153, 100)), (1, (153, 99)), (1, (152, 240)), (1, (152, 215)), (1, (152, 214)), (1, (152, 138)), (1, (152, 132)), (1, (152, 121)), (1, (152, 111)), (1, (152, 105)), (1, (152, 97)), (1, (151, 114)), (1, (151, 100)), (1, (151, 49)), (1, (150, 215)), (1, (150, 214)), (1, (150, 116)), (1, (150, 110)), (1, (150, 105)), (1, (150, 101)), (1, (150, 44)), (1, (149, 215)), (1, (149, 214)), (1, (149, 205)), (1, (149, 156)), (1, (149, 115)), (1, (149, 110)), (1, (149, 105)), (1, (149, 101)), (1, (149, 97)), (1, (148, 226)), (1, (148, 225)), (1, (148, 110)), (1, (148, 109)), (1, (148, 108)), (1, (148, 104)), (1, (148, 100)), (1, (148, 85)), (1, (148, 67)), (1, (147, 240)), (1, (147, 215)), (1, (147, 214)), (1, (147, 49)), (1, (146, 240)), (1, (146, 226)), (1, (144, 215)), (1, (144, 214)), (1, (143, 239)), (1, (143, 204)), (1, (142, 239)), (1, (142, 99)), (1, (141, 116)), (1, (141, 107)), (1, (141, 101)), (1, (139, 224)), (1, (139, 204)), (1, (138, 41)), (1, (137, 239)), (1, (137, 104)), (1, (136, 111)), (1, (136, 101)), (1, (135, 186)), (1, (135, 180)), (1, (135, 179)), (1, (135, 174)), (1, (135, 170)), (1, (135, 169)), (1, (135, 168)), (1, (135, 114)), (1, (134, 171)), (1, (133, 226)), (1, (133, 164)), (1, (133, 161)), (1, (133, 158)), (1, (133, 157)), (1, (133, 152)), (1, (133, 148)), (1, (133, 147)), (1, (133, 146)), (1, (133, 119)), (1, (133, 114)), (1, (133, 105)), (1, (133, 101)), (1, (133, 99)), (1, (133, 97)), (1, (133, 33)), (1, (132, 239)), (1, (132, 146)), (1, (132, 32)), (1, (131, 239)), (1, (129, 205)), (1, (129, 204)), (1, (129, 97)), (1, (129, 32)), (1, (128, 189)), (1, (128, 139)), (1, (122, 119)), (1, (122, 32)), (1, (121, 210)), (1, (121, 114)), (1, (121, 109)), (1, (121, 105)), (1, (121, 98)), (1, (121, 63)), (1, (121, 59)), (1, (121, 33)), (1, (120, 49)), (1, (120, 47)), (1, (120, 46)), (1, (119, 204)), (1, (119, 99)), (1, (119, 45)), (1, (118, 205)), (1, (117, 120)), (1, (116, 110)), (1, (116, 63)), (1, (116, 45)), (1, (115, 210)), (1, (115, 102)), (1, (115, 63)), (1, (115, 59)), (1, (115, 33)), (1, (114, 104)), (1, (114, 102)), (1, (114, 98)), (1, (114, 95)), (1, (112, 205)), (1, (112, 115)), (1, (112, 102)), (1, (112, 100)), (1, (112, 45)), (1, (111, 205)), (1, (111, 122)), (1, (111, 120)), (1, (111, 104)), (1, (111, 98)), (1, (111, 97)), (1, (111, 46)), (1, (110, 58)), (1, (110, 49)), (1, (109, 108)), (1, (109, 102)), (1, (108, 226)), (1, (108, 119)), (1, (108, 102)), (1, (107, 204)), (1, (107, 114)), (1, (107, 108)), (1, (107, 45)), (1, (106, 101)), (1, (105, 205)), (1, (105, 117)), (1, (105, 45)), (1, (104, 205)), (1, (104, 121)), (1, (104, 119)), (1, (104, 109)), (1, (104, 102)), (1, (104, 46)), (1, (104, 44)), (1, (104, 41)), (1, (104, 33)), (1, (103, 226)), (1, (103, 204)), (1, (103, 121)), (1, (103, 103)), (1, (103, 47)), (1, (103, 45)), (1, (102, 121)), (1, (102, 115)), (1, (101, 63)), (1, (100, 204)), (1, (100, 98)), (1, (100, 63)), (1, (100, 59)), (1, (99, 210)), (1, (99, 205)), (1, (98, 32)), (1, (97, 226)), (1, (97, 225)), (1, (97, 205)), (1, (97, 46)), (1, (95, 116)), (1, (90, 97)), (1, (88, 32)), (1, (86, 111)), (1, (86, 105)), (1, (85, 112)), (1, (85, 65)), (1, (85, 32)), (1, (84, 119)), (1, (84, 114)), (1, (83, 101)), (1, (83, 97)), (1, (83, 73)), (1, (80, 121)), (1, (80, 114)), (1, (80, 101)), (1, (80, 44)), (1, (79, 116)), (1, (79, 110)), (1, (79, 77)), (1, (78, 83)), (1, (77, 32)), (1, (75, 226)), (1, (75, 68)), (1, (75, 67)), (1, (73, 67)), (1, (71, 111)), (1, (71, 105)), (1, (70, 226)), (1, (70, 105)), (1, (70, 46)), (1, (69, 118)), (1, (69, 109)), (1, (69, 103)), (1, (69, 101)), (1, (69, 70)), (1, (69, 66)), (1, (69, 65)), (1, (69, 44)), (1, (68, 226)), (1, (68, 70)), (1, (68, 56)), (1, (68, 41)), (1, (68, 32)), (1, (67, 226)), (1, (67, 121)), (1, (67, 85)), (1, (67, 47)), (1, (67, 46)), (1, (67, 43)), (1, (66, 108)), (1, (66, 97)), (1, (66, 79)), (1, (66, 57)), (1, (66, 56)), (1, (65, 88)), (1, (65, 78)), (1, (63, 226)), (1, (63, 41)), (1, (57, 48)), (1, (56, 47)), (1, (55, 44)), (1, (54, 226)), (1, (54, 195)), (1, (54, 56)), (1, (53, 226)), (1, (53, 54)), (1, (53, 53)), (1, (53, 46)), (1, (52, 59)), (1, (52, 54)), (1, (52, 44)), (1, (51, 66)), (1, (50, 57)), (1, (50, 50)), (1, (50, 48)), (1, (50, 46)), (1, (50, 37)), (1, (49, 226)), (1, (49, 121)), (1, (49, 53)), (1, (48, 119)), (1, (48, 69)), (1, (48, 9)), (1, (47, 115)), (1, (47, 76)), (1, (47, 74)), (1, (47, 67)), (1, (47, 49)), (1, (46, 204)), (1, (46, 44)), (1, (45, 115)), (1, (45, 109)), (1, (45, 105)), (1, (45, 100)), (1, (44, 204)), (1, (44, 52)), (1, (44, 50)), (1, (43, 226)), (1, (43, 47)), (1, (43, 43)), (1, (41, 58)), (1, (40, 119)), (1, (40, 117)), (1, (40, 100)), (1, (40, 67)), (1, (40, 65)), (1, (37, 32)), (1, (35, 50)), (1, (32, 239)), (1, (32, 120)), (1, (32, 35))]\n"
          ]
        }
      ]
    },
    {
      "cell_type": "code",
      "source": [
        "vocab_size = 276\n",
        "num_merges  = vocab_size-256\n",
        "merges = {} #dict (int, int)=> int\n",
        "ids = list(tokens)\n",
        "\n",
        "for i in range(num_merges):\n",
        "  pair_counts = count_adjacent_pairs(ids)\n",
        "  top_val = max(pair_counts, key = pair_counts.get)\n",
        "  print(f'Merging {top_val} to new token index {256+i} ')\n",
        "  ids = merge(ids, top_val, 256+i)\n",
        "  merges[top_val] = 256+i"
      ],
      "metadata": {
        "colab": {
          "base_uri": "https://localhost:8080/"
        },
        "id": "x4EJALog6VHn",
        "outputId": "75d699a6-75c5-49c0-f7cf-f0c6869c29b1"
      },
      "execution_count": 10,
      "outputs": [
        {
          "output_type": "stream",
          "name": "stdout",
          "text": [
            "Merging (101, 32) to new token index 256 \n",
            "Merging (105, 110) to new token index 257 \n",
            "Merging (115, 32) to new token index 258 \n",
            "Merging (116, 104) to new token index 259 \n",
            "Merging (101, 114) to new token index 260 \n",
            "Merging (99, 111) to new token index 261 \n",
            "Merging (116, 32) to new token index 262 \n",
            "Merging (226, 128) to new token index 263 \n",
            "Merging (44, 32) to new token index 264 \n",
            "Merging (97, 110) to new token index 265 \n",
            "Merging (111, 114) to new token index 266 \n",
            "Merging (100, 32) to new token index 267 \n",
            "Merging (97, 114) to new token index 268 \n",
            "Merging (101, 110) to new token index 269 \n",
            "Merging (257, 103) to new token index 270 \n",
            "Merging (261, 100) to new token index 271 \n",
            "Merging (121, 32) to new token index 272 \n",
            "Merging (46, 32) to new token index 273 \n",
            "Merging (97, 108) to new token index 274 \n",
            "Merging (259, 256) to new token index 275 \n"
          ]
        }
      ]
    },
    {
      "cell_type": "code",
      "source": [
        "print(f'tokens length: {len(tokens)}')\n",
        "print(f'ids length: {len(ids)}')\n",
        "compression_ratio = len(tokens)/len(ids)\n",
        "print(f'compression ratio: {compression_ratio:.2f}X')"
      ],
      "metadata": {
        "colab": {
          "base_uri": "https://localhost:8080/"
        },
        "id": "Ysea6a9P8ecd",
        "outputId": "c7df5811-61b2-4164-af06-211443c2b6e4"
      },
      "execution_count": 11,
      "outputs": [
        {
          "output_type": "stream",
          "name": "stdout",
          "text": [
            "tokens length: 24597\n",
            "ids length: 19438\n",
            "compression ratio: 1.27X\n"
          ]
        }
      ]
    },
    {
      "cell_type": "code",
      "source": [
        "vocab = {idx: bytes([idx]) for idx in range(256)}\n",
        "for (p0, p1), idx in merges.items():\n",
        "    vocab[idx] = vocab[p0] + vocab[p1]\n",
        "\n",
        "def decode(ids):\n",
        "  # given ids (list of integers), return Python string\n",
        "  tokens = b\"\".join(vocab[idx] for idx in ids)\n",
        "  text = tokens.decode(\"utf-8\", errors=\"replace\")\n",
        "  return text\n",
        "\n",
        "print(decode([107]))"
      ],
      "metadata": {
        "colab": {
          "base_uri": "https://localhost:8080/"
        },
        "id": "Vp-yTlqC9J3o",
        "outputId": "55cc967d-09e0-46c1-81f5-8f3126ee362f"
      },
      "execution_count": 12,
      "outputs": [
        {
          "output_type": "stream",
          "name": "stdout",
          "text": [
            "k\n"
          ]
        }
      ]
    },
    {
      "cell_type": "code",
      "source": [
        "def encode(text):\n",
        "  # given a string, return list of integers (the tokens)\n",
        "  tokens = list(text.encode(\"utf-8\"))\n",
        "  while len(tokens) >= 2:\n",
        "    stats = get_stats(tokens)\n",
        "    pair = min(stats, key=lambda p: merges.get(p, float(\"inf\")))\n",
        "    if pair not in merges:\n",
        "      break # nothing else can be merged\n",
        "    idx = merges[pair]\n",
        "    tokens = merge(tokens, pair, idx)\n",
        "  return tokens\n",
        "\n",
        "print(encode(\"\"))"
      ],
      "metadata": {
        "colab": {
          "base_uri": "https://localhost:8080/"
        },
        "id": "iTwlRc6Hv2jS",
        "outputId": "f5373f60-6f1c-4322-f2d8-e4d7f4939d82"
      },
      "execution_count": 13,
      "outputs": [
        {
          "output_type": "stream",
          "name": "stdout",
          "text": [
            "[]\n"
          ]
        }
      ]
    },
    {
      "cell_type": "code",
      "source": [
        "def encode(text):\n",
        "  tokens = list(text.encode('utf-8'))\n",
        "  while (len(tokens)>=2):\n",
        "    count_stats = count_adjacent_pairs(tokens)\n",
        "    min_pair = min(count_stats, key = lambda pair: merges.get(pair, float('inf')))\n",
        "    if min_pair not in merges:\n",
        "        break\n",
        "    idx = merges[min_pair]\n",
        "    tokens = merge(tokens, min_pair, idx)\n",
        "  return tokens\n",
        "\n",
        "print(encode(\"happy\"))"
      ],
      "metadata": {
        "colab": {
          "base_uri": "https://localhost:8080/"
        },
        "id": "rYVxA6Sjv3Ca",
        "outputId": "2daab488-f6e4-4145-c856-3cd0027700fe"
      },
      "execution_count": 14,
      "outputs": [
        {
          "output_type": "stream",
          "name": "stdout",
          "text": [
            "[104, 97, 112, 112, 121]\n"
          ]
        }
      ]
    },
    {
      "cell_type": "markdown",
      "source": [
        "regex splits"
      ],
      "metadata": {
        "id": "hTzNrCQo2RCZ"
      }
    },
    {
      "cell_type": "code",
      "source": [
        "import regex as re\n",
        "gpt2pat = re.compile(r\"\"\"'s|'t|'re|'ve|'m|'ll|'d| ?\\p{L}+| ?\\p{N}+| ?[^\\s\\p{L}\\p{N}]+|\\s+(?!\\S)|\\s+\"\"\")\n",
        "\n",
        "print(re.findall(gpt2pat, \"how've you been!!!?\"))"
      ],
      "metadata": {
        "colab": {
          "base_uri": "https://localhost:8080/"
        },
        "id": "gh5Rkjyz2Qxu",
        "outputId": "4b544a10-3f12-4832-e25d-f708ca15c466"
      },
      "execution_count": 15,
      "outputs": [
        {
          "output_type": "stream",
          "name": "stdout",
          "text": [
            "['how', \"'ve\", ' you', ' been', '!!!?']\n"
          ]
        }
      ]
    },
    {
      "cell_type": "code",
      "source": [
        "example = \"\"\"\n",
        "for i in range(1, 101):\n",
        "    if i % 3 == 0 and i % 5 == 0:\n",
        "        print(\"FizzBuzz\")\n",
        "    elif i % 3 == 0:\n",
        "        print(\"Fizz\")\n",
        "    elif i % 5 == 0:\n",
        "        print(\"Buzz\")\n",
        "    else:\n",
        "        print(i)\n",
        "\"\"\"\n",
        "print(re.findall(gpt2pat, example))"
      ],
      "metadata": {
        "colab": {
          "base_uri": "https://localhost:8080/"
        },
        "id": "jobRUuRzv3AR",
        "outputId": "0ee14cc3-6005-40e9-d604-2a5f7996d168"
      },
      "execution_count": 16,
      "outputs": [
        {
          "output_type": "stream",
          "name": "stdout",
          "text": [
            "['\\n', 'for', ' i', ' in', ' range', '(', '1', ',', ' 101', '):', '\\n   ', ' if', ' i', ' %', ' 3', ' ==', ' 0', ' and', ' i', ' %', ' 5', ' ==', ' 0', ':', '\\n       ', ' print', '(\"', 'FizzBuzz', '\")', '\\n   ', ' elif', ' i', ' %', ' 3', ' ==', ' 0', ':', '\\n       ', ' print', '(\"', 'Fizz', '\")', '\\n   ', ' elif', ' i', ' %', ' 5', ' ==', ' 0', ':', '\\n       ', ' print', '(\"', 'Buzz', '\")', '\\n   ', ' else', ':', '\\n       ', ' print', '(', 'i', ')', '\\n']\n"
          ]
        }
      ]
    },
    {
      "cell_type": "code",
      "source": [
        "!pip install tiktoken\n",
        "\n",
        "import tiktoken\n",
        "\n",
        "# GPT-2 (does not merge spaces)\n",
        "enc = tiktoken.get_encoding(\"gpt2\")\n",
        "print(enc.encode(\"    hello world!!!\"))\n",
        "\n",
        "# GPT-4 (merges spaces)\n",
        "enc = tiktoken.get_encoding(\"cl100k_base\")\n",
        "print(enc.encode(\"    hello world!!!\"))"
      ],
      "metadata": {
        "colab": {
          "base_uri": "https://localhost:8080/"
        },
        "id": "7jPk-6JIv2-W",
        "outputId": "96157b94-a35a-46c7-e2e5-edf8fcccf04a"
      },
      "execution_count": 17,
      "outputs": [
        {
          "output_type": "stream",
          "name": "stdout",
          "text": [
            "Collecting tiktoken\n",
            "  Downloading tiktoken-0.6.0-cp310-cp310-manylinux_2_17_x86_64.manylinux2014_x86_64.whl (1.8 MB)\n",
            "\u001b[2K     \u001b[90m━━━━━━━━━━━━━━━━━━━━━━━━━━━━━━━━━━━━━━━━\u001b[0m \u001b[32m1.8/1.8 MB\u001b[0m \u001b[31m7.2 MB/s\u001b[0m eta \u001b[36m0:00:00\u001b[0m\n",
            "\u001b[?25hRequirement already satisfied: regex>=2022.1.18 in /usr/local/lib/python3.10/dist-packages (from tiktoken) (2023.12.25)\n",
            "Requirement already satisfied: requests>=2.26.0 in /usr/local/lib/python3.10/dist-packages (from tiktoken) (2.31.0)\n",
            "Requirement already satisfied: charset-normalizer<4,>=2 in /usr/local/lib/python3.10/dist-packages (from requests>=2.26.0->tiktoken) (3.3.2)\n",
            "Requirement already satisfied: idna<4,>=2.5 in /usr/local/lib/python3.10/dist-packages (from requests>=2.26.0->tiktoken) (3.6)\n",
            "Requirement already satisfied: urllib3<3,>=1.21.1 in /usr/local/lib/python3.10/dist-packages (from requests>=2.26.0->tiktoken) (2.0.7)\n",
            "Requirement already satisfied: certifi>=2017.4.17 in /usr/local/lib/python3.10/dist-packages (from requests>=2.26.0->tiktoken) (2024.2.2)\n",
            "Installing collected packages: tiktoken\n",
            "Successfully installed tiktoken-0.6.0\n",
            "[220, 220, 220, 23748, 995, 10185]\n",
            "[262, 24748, 1917, 12340]\n"
          ]
        }
      ]
    },
    {
      "cell_type": "code",
      "source": [
        "!wget https://openaipublic.blob.core.windows.net/gpt-2/models/1558M/vocab.bpe\n",
        "!wget https://openaipublic.blob.core.windows.net/gpt-2/models/1558M/encoder.json"
      ],
      "metadata": {
        "colab": {
          "base_uri": "https://localhost:8080/"
        },
        "id": "K_e0mtv34M1M",
        "outputId": "dff866db-a846-4d92-99ff-99356227b343"
      },
      "execution_count": 18,
      "outputs": [
        {
          "output_type": "stream",
          "name": "stdout",
          "text": [
            "--2024-02-22 18:48:09--  https://openaipublic.blob.core.windows.net/gpt-2/models/1558M/vocab.bpe\n",
            "Resolving openaipublic.blob.core.windows.net (openaipublic.blob.core.windows.net)... 20.60.179.33\n",
            "Connecting to openaipublic.blob.core.windows.net (openaipublic.blob.core.windows.net)|20.60.179.33|:443... connected.\n",
            "HTTP request sent, awaiting response... 200 OK\n",
            "Length: 456318 (446K) [application/octet-stream]\n",
            "Saving to: ‘vocab.bpe’\n",
            "\n",
            "vocab.bpe           100%[===================>] 445.62K  2.01MB/s    in 0.2s    \n",
            "\n",
            "2024-02-22 18:48:10 (2.01 MB/s) - ‘vocab.bpe’ saved [456318/456318]\n",
            "\n",
            "--2024-02-22 18:48:10--  https://openaipublic.blob.core.windows.net/gpt-2/models/1558M/encoder.json\n",
            "Resolving openaipublic.blob.core.windows.net (openaipublic.blob.core.windows.net)... 20.60.179.33\n",
            "Connecting to openaipublic.blob.core.windows.net (openaipublic.blob.core.windows.net)|20.60.179.33|:443... connected.\n",
            "HTTP request sent, awaiting response... 200 OK\n",
            "Length: 1042301 (1018K) [application/json]\n",
            "Saving to: ‘encoder.json’\n",
            "\n",
            "encoder.json        100%[===================>]   1018K  3.29MB/s    in 0.3s    \n",
            "\n",
            "2024-02-22 18:48:10 (3.29 MB/s) - ‘encoder.json’ saved [1042301/1042301]\n",
            "\n"
          ]
        }
      ]
    },
    {
      "cell_type": "code",
      "source": [
        "import os, json\n",
        "\n",
        "with open('encoder.json', 'r') as f:\n",
        "    encoder = json.load(f) # <--- ~equivalent to our \"vocab\"\n",
        "\n",
        "with open('vocab.bpe', 'r', encoding=\"utf-8\") as f:\n",
        "    bpe_data = f.read()\n",
        "bpe_merges = [tuple(merge_str.split()) for merge_str in bpe_data.split('\\n')[1:-1]]\n",
        "# ^---- ~equivalent to our \"merges\"\n"
      ],
      "metadata": {
        "id": "3YhPxBRp4MzB"
      },
      "execution_count": 19,
      "outputs": []
    },
    {
      "cell_type": "code",
      "source": [
        "len(encoder) # 256 raw byte tokens. 50,000 merges. +1 special token"
      ],
      "metadata": {
        "colab": {
          "base_uri": "https://localhost:8080/"
        },
        "id": "8hhxnRWM4Mmf",
        "outputId": "24e9b55f-38f8-4b29-cc0c-752cedf10cbf"
      },
      "execution_count": 20,
      "outputs": [
        {
          "output_type": "execute_result",
          "data": {
            "text/plain": [
              "50257"
            ]
          },
          "metadata": {},
          "execution_count": 20
        }
      ]
    },
    {
      "cell_type": "code",
      "source": [
        "encoder['<|endoftext|>'] # only special token in use for the GPT-2 base model"
      ],
      "metadata": {
        "colab": {
          "base_uri": "https://localhost:8080/"
        },
        "id": "phbUqwG960si",
        "outputId": "d71d4f69-0ca8-4384-dba9-dc76ed9c822b"
      },
      "execution_count": 21,
      "outputs": [
        {
          "output_type": "execute_result",
          "data": {
            "text/plain": [
              "50256"
            ]
          },
          "metadata": {},
          "execution_count": 21
        }
      ]
    },
    {
      "cell_type": "code",
      "source": [
        "import sentencepiece as spm"
      ],
      "metadata": {
        "id": "srq1Tspu64Vx"
      },
      "execution_count": 22,
      "outputs": []
    },
    {
      "cell_type": "code",
      "source": [
        "# write a toy.txt file with some random text\n",
        "with open(\"toy.txt\", \"w\", encoding=\"utf-8\") as f:\n",
        "  f.write(\"SentencePiece is an unsupervised text tokenizer and detokenizer mainly for Neural Network-based text generation systems where the vocabulary size is predetermined prior to the neural model training. SentencePiece implements subword units (e.g., byte-pair-encoding (BPE) [Sennrich et al.]) and unigram language model [Kudo.]) with the extension of direct training from raw sentences. SentencePiece allows us to make a purely end-to-end system that does not depend on language-specific pre/postprocessing.\")"
      ],
      "metadata": {
        "id": "emztUQTRHQ6W"
      },
      "execution_count": 23,
      "outputs": []
    },
    {
      "cell_type": "code",
      "source": [
        "# train a sentencepiece model on it\n",
        "# the settings here are (best effort) those used for training Llama 2\n",
        "import os\n",
        "\n",
        "options = dict(\n",
        "  # input spec\n",
        "  input=\"toy.txt\",\n",
        "  input_format=\"text\",\n",
        "  # output spec\n",
        "  model_prefix=\"tok400\", # output filename prefix\n",
        "  # algorithm spec\n",
        "  # BPE alg\n",
        "  model_type=\"bpe\",\n",
        "  vocab_size=400,\n",
        "  # normalization\n",
        "  normalization_rule_name=\"identity\", # ew, turn off normalization\n",
        "  remove_extra_whitespaces=False,\n",
        "  input_sentence_size=200000000, # max number of training sentences\n",
        "  max_sentence_length=4192, # max number of bytes per sentence\n",
        "  seed_sentencepiece_size=1000000,\n",
        "  shuffle_input_sentence=True,\n",
        "  # rare word treatment\n",
        "  character_coverage=0.99995,\n",
        "  byte_fallback=True,\n",
        "  # merge rules\n",
        "  split_digits=True,\n",
        "  split_by_unicode_script=True,\n",
        "  split_by_whitespace=True,\n",
        "  split_by_number=True,\n",
        "  max_sentencepiece_length=16,\n",
        "  add_dummy_prefix=True,\n",
        "  allow_whitespace_only_pieces=True,\n",
        "  # special tokens\n",
        "  unk_id=0, # the UNK token MUST exist\n",
        "  bos_id=1, # the others are optional, set to -1 to turn off\n",
        "  eos_id=2,\n",
        "  pad_id=-1,\n",
        "  # systems\n",
        "  num_threads=os.cpu_count(), # use ~all system resources\n",
        ")\n",
        "\n",
        "spm.SentencePieceTrainer.train(**options)\n"
      ],
      "metadata": {
        "id": "qjq21_0_HWAV"
      },
      "execution_count": 24,
      "outputs": []
    },
    {
      "cell_type": "code",
      "source": [
        "sp = spm.SentencePieceProcessor()\n",
        "sp.load('tok400.model')\n",
        "vocab = [[sp.id_to_piece(idx), idx] for idx in range(sp.get_piece_size())]\n",
        "vocab"
      ],
      "metadata": {
        "colab": {
          "base_uri": "https://localhost:8080/"
        },
        "id": "c5D7uD3hHZYc",
        "outputId": "d322b3c4-3c34-4e04-8535-a9368226a66a"
      },
      "execution_count": 25,
      "outputs": [
        {
          "output_type": "execute_result",
          "data": {
            "text/plain": [
              "[['<unk>', 0],\n",
              " ['<s>', 1],\n",
              " ['</s>', 2],\n",
              " ['<0x00>', 3],\n",
              " ['<0x01>', 4],\n",
              " ['<0x02>', 5],\n",
              " ['<0x03>', 6],\n",
              " ['<0x04>', 7],\n",
              " ['<0x05>', 8],\n",
              " ['<0x06>', 9],\n",
              " ['<0x07>', 10],\n",
              " ['<0x08>', 11],\n",
              " ['<0x09>', 12],\n",
              " ['<0x0A>', 13],\n",
              " ['<0x0B>', 14],\n",
              " ['<0x0C>', 15],\n",
              " ['<0x0D>', 16],\n",
              " ['<0x0E>', 17],\n",
              " ['<0x0F>', 18],\n",
              " ['<0x10>', 19],\n",
              " ['<0x11>', 20],\n",
              " ['<0x12>', 21],\n",
              " ['<0x13>', 22],\n",
              " ['<0x14>', 23],\n",
              " ['<0x15>', 24],\n",
              " ['<0x16>', 25],\n",
              " ['<0x17>', 26],\n",
              " ['<0x18>', 27],\n",
              " ['<0x19>', 28],\n",
              " ['<0x1A>', 29],\n",
              " ['<0x1B>', 30],\n",
              " ['<0x1C>', 31],\n",
              " ['<0x1D>', 32],\n",
              " ['<0x1E>', 33],\n",
              " ['<0x1F>', 34],\n",
              " ['<0x20>', 35],\n",
              " ['<0x21>', 36],\n",
              " ['<0x22>', 37],\n",
              " ['<0x23>', 38],\n",
              " ['<0x24>', 39],\n",
              " ['<0x25>', 40],\n",
              " ['<0x26>', 41],\n",
              " ['<0x27>', 42],\n",
              " ['<0x28>', 43],\n",
              " ['<0x29>', 44],\n",
              " ['<0x2A>', 45],\n",
              " ['<0x2B>', 46],\n",
              " ['<0x2C>', 47],\n",
              " ['<0x2D>', 48],\n",
              " ['<0x2E>', 49],\n",
              " ['<0x2F>', 50],\n",
              " ['<0x30>', 51],\n",
              " ['<0x31>', 52],\n",
              " ['<0x32>', 53],\n",
              " ['<0x33>', 54],\n",
              " ['<0x34>', 55],\n",
              " ['<0x35>', 56],\n",
              " ['<0x36>', 57],\n",
              " ['<0x37>', 58],\n",
              " ['<0x38>', 59],\n",
              " ['<0x39>', 60],\n",
              " ['<0x3A>', 61],\n",
              " ['<0x3B>', 62],\n",
              " ['<0x3C>', 63],\n",
              " ['<0x3D>', 64],\n",
              " ['<0x3E>', 65],\n",
              " ['<0x3F>', 66],\n",
              " ['<0x40>', 67],\n",
              " ['<0x41>', 68],\n",
              " ['<0x42>', 69],\n",
              " ['<0x43>', 70],\n",
              " ['<0x44>', 71],\n",
              " ['<0x45>', 72],\n",
              " ['<0x46>', 73],\n",
              " ['<0x47>', 74],\n",
              " ['<0x48>', 75],\n",
              " ['<0x49>', 76],\n",
              " ['<0x4A>', 77],\n",
              " ['<0x4B>', 78],\n",
              " ['<0x4C>', 79],\n",
              " ['<0x4D>', 80],\n",
              " ['<0x4E>', 81],\n",
              " ['<0x4F>', 82],\n",
              " ['<0x50>', 83],\n",
              " ['<0x51>', 84],\n",
              " ['<0x52>', 85],\n",
              " ['<0x53>', 86],\n",
              " ['<0x54>', 87],\n",
              " ['<0x55>', 88],\n",
              " ['<0x56>', 89],\n",
              " ['<0x57>', 90],\n",
              " ['<0x58>', 91],\n",
              " ['<0x59>', 92],\n",
              " ['<0x5A>', 93],\n",
              " ['<0x5B>', 94],\n",
              " ['<0x5C>', 95],\n",
              " ['<0x5D>', 96],\n",
              " ['<0x5E>', 97],\n",
              " ['<0x5F>', 98],\n",
              " ['<0x60>', 99],\n",
              " ['<0x61>', 100],\n",
              " ['<0x62>', 101],\n",
              " ['<0x63>', 102],\n",
              " ['<0x64>', 103],\n",
              " ['<0x65>', 104],\n",
              " ['<0x66>', 105],\n",
              " ['<0x67>', 106],\n",
              " ['<0x68>', 107],\n",
              " ['<0x69>', 108],\n",
              " ['<0x6A>', 109],\n",
              " ['<0x6B>', 110],\n",
              " ['<0x6C>', 111],\n",
              " ['<0x6D>', 112],\n",
              " ['<0x6E>', 113],\n",
              " ['<0x6F>', 114],\n",
              " ['<0x70>', 115],\n",
              " ['<0x71>', 116],\n",
              " ['<0x72>', 117],\n",
              " ['<0x73>', 118],\n",
              " ['<0x74>', 119],\n",
              " ['<0x75>', 120],\n",
              " ['<0x76>', 121],\n",
              " ['<0x77>', 122],\n",
              " ['<0x78>', 123],\n",
              " ['<0x79>', 124],\n",
              " ['<0x7A>', 125],\n",
              " ['<0x7B>', 126],\n",
              " ['<0x7C>', 127],\n",
              " ['<0x7D>', 128],\n",
              " ['<0x7E>', 129],\n",
              " ['<0x7F>', 130],\n",
              " ['<0x80>', 131],\n",
              " ['<0x81>', 132],\n",
              " ['<0x82>', 133],\n",
              " ['<0x83>', 134],\n",
              " ['<0x84>', 135],\n",
              " ['<0x85>', 136],\n",
              " ['<0x86>', 137],\n",
              " ['<0x87>', 138],\n",
              " ['<0x88>', 139],\n",
              " ['<0x89>', 140],\n",
              " ['<0x8A>', 141],\n",
              " ['<0x8B>', 142],\n",
              " ['<0x8C>', 143],\n",
              " ['<0x8D>', 144],\n",
              " ['<0x8E>', 145],\n",
              " ['<0x8F>', 146],\n",
              " ['<0x90>', 147],\n",
              " ['<0x91>', 148],\n",
              " ['<0x92>', 149],\n",
              " ['<0x93>', 150],\n",
              " ['<0x94>', 151],\n",
              " ['<0x95>', 152],\n",
              " ['<0x96>', 153],\n",
              " ['<0x97>', 154],\n",
              " ['<0x98>', 155],\n",
              " ['<0x99>', 156],\n",
              " ['<0x9A>', 157],\n",
              " ['<0x9B>', 158],\n",
              " ['<0x9C>', 159],\n",
              " ['<0x9D>', 160],\n",
              " ['<0x9E>', 161],\n",
              " ['<0x9F>', 162],\n",
              " ['<0xA0>', 163],\n",
              " ['<0xA1>', 164],\n",
              " ['<0xA2>', 165],\n",
              " ['<0xA3>', 166],\n",
              " ['<0xA4>', 167],\n",
              " ['<0xA5>', 168],\n",
              " ['<0xA6>', 169],\n",
              " ['<0xA7>', 170],\n",
              " ['<0xA8>', 171],\n",
              " ['<0xA9>', 172],\n",
              " ['<0xAA>', 173],\n",
              " ['<0xAB>', 174],\n",
              " ['<0xAC>', 175],\n",
              " ['<0xAD>', 176],\n",
              " ['<0xAE>', 177],\n",
              " ['<0xAF>', 178],\n",
              " ['<0xB0>', 179],\n",
              " ['<0xB1>', 180],\n",
              " ['<0xB2>', 181],\n",
              " ['<0xB3>', 182],\n",
              " ['<0xB4>', 183],\n",
              " ['<0xB5>', 184],\n",
              " ['<0xB6>', 185],\n",
              " ['<0xB7>', 186],\n",
              " ['<0xB8>', 187],\n",
              " ['<0xB9>', 188],\n",
              " ['<0xBA>', 189],\n",
              " ['<0xBB>', 190],\n",
              " ['<0xBC>', 191],\n",
              " ['<0xBD>', 192],\n",
              " ['<0xBE>', 193],\n",
              " ['<0xBF>', 194],\n",
              " ['<0xC0>', 195],\n",
              " ['<0xC1>', 196],\n",
              " ['<0xC2>', 197],\n",
              " ['<0xC3>', 198],\n",
              " ['<0xC4>', 199],\n",
              " ['<0xC5>', 200],\n",
              " ['<0xC6>', 201],\n",
              " ['<0xC7>', 202],\n",
              " ['<0xC8>', 203],\n",
              " ['<0xC9>', 204],\n",
              " ['<0xCA>', 205],\n",
              " ['<0xCB>', 206],\n",
              " ['<0xCC>', 207],\n",
              " ['<0xCD>', 208],\n",
              " ['<0xCE>', 209],\n",
              " ['<0xCF>', 210],\n",
              " ['<0xD0>', 211],\n",
              " ['<0xD1>', 212],\n",
              " ['<0xD2>', 213],\n",
              " ['<0xD3>', 214],\n",
              " ['<0xD4>', 215],\n",
              " ['<0xD5>', 216],\n",
              " ['<0xD6>', 217],\n",
              " ['<0xD7>', 218],\n",
              " ['<0xD8>', 219],\n",
              " ['<0xD9>', 220],\n",
              " ['<0xDA>', 221],\n",
              " ['<0xDB>', 222],\n",
              " ['<0xDC>', 223],\n",
              " ['<0xDD>', 224],\n",
              " ['<0xDE>', 225],\n",
              " ['<0xDF>', 226],\n",
              " ['<0xE0>', 227],\n",
              " ['<0xE1>', 228],\n",
              " ['<0xE2>', 229],\n",
              " ['<0xE3>', 230],\n",
              " ['<0xE4>', 231],\n",
              " ['<0xE5>', 232],\n",
              " ['<0xE6>', 233],\n",
              " ['<0xE7>', 234],\n",
              " ['<0xE8>', 235],\n",
              " ['<0xE9>', 236],\n",
              " ['<0xEA>', 237],\n",
              " ['<0xEB>', 238],\n",
              " ['<0xEC>', 239],\n",
              " ['<0xED>', 240],\n",
              " ['<0xEE>', 241],\n",
              " ['<0xEF>', 242],\n",
              " ['<0xF0>', 243],\n",
              " ['<0xF1>', 244],\n",
              " ['<0xF2>', 245],\n",
              " ['<0xF3>', 246],\n",
              " ['<0xF4>', 247],\n",
              " ['<0xF5>', 248],\n",
              " ['<0xF6>', 249],\n",
              " ['<0xF7>', 250],\n",
              " ['<0xF8>', 251],\n",
              " ['<0xF9>', 252],\n",
              " ['<0xFA>', 253],\n",
              " ['<0xFB>', 254],\n",
              " ['<0xFC>', 255],\n",
              " ['<0xFD>', 256],\n",
              " ['<0xFE>', 257],\n",
              " ['<0xFF>', 258],\n",
              " ['en', 259],\n",
              " ['▁t', 260],\n",
              " ['ce', 261],\n",
              " ['in', 262],\n",
              " ['ra', 263],\n",
              " ['▁a', 264],\n",
              " ['de', 265],\n",
              " ['er', 266],\n",
              " ['▁s', 267],\n",
              " ['ent', 268],\n",
              " ['or', 269],\n",
              " ['pr', 270],\n",
              " ['▁m', 271],\n",
              " ['▁u', 272],\n",
              " ['ing', 273],\n",
              " ['▁th', 274],\n",
              " ['ence', 275],\n",
              " ['entence', 276],\n",
              " ['Pi', 277],\n",
              " ['ed', 278],\n",
              " ['em', 279],\n",
              " ['ex', 280],\n",
              " ['is', 281],\n",
              " ['iz', 282],\n",
              " ['la', 283],\n",
              " ['on', 284],\n",
              " ['st', 285],\n",
              " ['▁S', 286],\n",
              " ['Pie', 287],\n",
              " ['end', 288],\n",
              " ['ext', 289],\n",
              " ['▁an', 290],\n",
              " ['▁pr', 291],\n",
              " ['▁to', 292],\n",
              " ['▁un', 293],\n",
              " ['▁the', 294],\n",
              " ['Piece', 295],\n",
              " ['▁Sentence', 296],\n",
              " ['▁SentencePiece', 297],\n",
              " ['.]', 298],\n",
              " ['Ne', 299],\n",
              " ['ag', 300],\n",
              " ['do', 301],\n",
              " ['ec', 302],\n",
              " ['gu', 303],\n",
              " ['ic', 304],\n",
              " ['ir', 305],\n",
              " ['it', 306],\n",
              " ['ly', 307],\n",
              " ['to', 308],\n",
              " ['▁(', 309],\n",
              " ['▁[', 310],\n",
              " ['▁f', 311],\n",
              " ['▁n', 312],\n",
              " ['▁w', 313],\n",
              " ['.])', 314],\n",
              " ['age', 315],\n",
              " ['del', 316],\n",
              " ['ion', 317],\n",
              " ['ken', 318],\n",
              " ['lan', 319],\n",
              " ['ral', 320],\n",
              " ['wor', 321],\n",
              " ['yst', 322],\n",
              " ['▁Ne', 323],\n",
              " ['▁al', 324],\n",
              " ['▁de', 325],\n",
              " ['▁is', 326],\n",
              " ['▁ma', 327],\n",
              " ['▁mo', 328],\n",
              " ['izer', 329],\n",
              " ['rain', 330],\n",
              " ['ural', 331],\n",
              " ['▁and', 332],\n",
              " ['▁lan', 333],\n",
              " ['▁pre', 334],\n",
              " ['guage', 335],\n",
              " ['ystem', 336],\n",
              " ['▁text', 337],\n",
              " ['▁model', 338],\n",
              " ['▁train', 339],\n",
              " ['kenizer', 340],\n",
              " ['▁system', 341],\n",
              " ['▁language', 342],\n",
              " ['▁training', 343],\n",
              " ['.,', 344],\n",
              " ['BP', 345],\n",
              " ['Ku', 346],\n",
              " ['ab', 347],\n",
              " ['as', 348],\n",
              " ['at', 349],\n",
              " ['by', 350],\n",
              " ['co', 351],\n",
              " ['es', 352],\n",
              " ['et', 353],\n",
              " ['if', 354],\n",
              " ['ig', 355],\n",
              " ['im', 356],\n",
              " ['ke', 357],\n",
              " ['lo', 358],\n",
              " ['nr', 359],\n",
              " ['oc', 360],\n",
              " ['e', 361],\n",
              " ['▁', 362],\n",
              " ['n', 363],\n",
              " ['t', 364],\n",
              " ['i', 365],\n",
              " ['r', 366],\n",
              " ['a', 367],\n",
              " ['o', 368],\n",
              " ['s', 369],\n",
              " ['d', 370],\n",
              " ['c', 371],\n",
              " ['l', 372],\n",
              " ['u', 373],\n",
              " ['g', 374],\n",
              " ['m', 375],\n",
              " ['p', 376],\n",
              " ['.', 377],\n",
              " ['h', 378],\n",
              " ['-', 379],\n",
              " ['w', 380],\n",
              " ['y', 381],\n",
              " ['P', 382],\n",
              " ['S', 383],\n",
              " ['b', 384],\n",
              " ['f', 385],\n",
              " ['k', 386],\n",
              " [')', 387],\n",
              " ['x', 388],\n",
              " ['z', 389],\n",
              " ['(', 390],\n",
              " ['N', 391],\n",
              " ['[', 392],\n",
              " [']', 393],\n",
              " ['v', 394],\n",
              " [',', 395],\n",
              " ['/', 396],\n",
              " ['B', 397],\n",
              " ['E', 398],\n",
              " ['K', 399]]"
            ]
          },
          "metadata": {},
          "execution_count": 25
        }
      ]
    },
    {
      "cell_type": "code",
      "source": [
        "ids = sp.encode(\"hello 안녕하세요\")\n",
        "print(ids)"
      ],
      "metadata": {
        "colab": {
          "base_uri": "https://localhost:8080/"
        },
        "id": "cjsRljzjHZWZ",
        "outputId": "68f7b96e-3a80-4e3b-9112-afcff321db2e"
      },
      "execution_count": 26,
      "outputs": [
        {
          "output_type": "stream",
          "name": "stdout",
          "text": [
            "[362, 378, 361, 372, 358, 362, 239, 152, 139, 238, 136, 152, 240, 152, 155, 239, 135, 187, 239, 157, 151]\n"
          ]
        }
      ]
    },
    {
      "cell_type": "code",
      "source": [
        "print([sp.id_to_piece(idx) for idx in ids])"
      ],
      "metadata": {
        "colab": {
          "base_uri": "https://localhost:8080/"
        },
        "id": "mMtp18YfHZTp",
        "outputId": "1ce08b4c-e9e7-45a3-be3e-b75fe6531186"
      },
      "execution_count": 27,
      "outputs": [
        {
          "output_type": "stream",
          "name": "stdout",
          "text": [
            "['▁', 'h', 'e', 'l', 'lo', '▁', '<0xEC>', '<0x95>', '<0x88>', '<0xEB>', '<0x85>', '<0x95>', '<0xED>', '<0x95>', '<0x98>', '<0xEC>', '<0x84>', '<0xB8>', '<0xEC>', '<0x9A>', '<0x94>']\n"
          ]
        }
      ]
    },
    {
      "cell_type": "code",
      "source": [
        "# if byte fallback was disabled in llama2\n",
        "sp = spm.SentencePieceProcessor()\n",
        "sp.load('tok400.model')\n",
        "vocab = [[sp.id_to_piece(idx), idx] for idx in range(sp.get_piece_size())]\n",
        "vocab\n",
        "\n",
        "\n",
        "# train a sentencepiece model on it\n",
        "# the settings here are (best effort) those used for training Llama 2\n",
        "import os\n",
        "\n",
        "options = dict(\n",
        "  # input spec\n",
        "  input=\"toy.txt\",\n",
        "  input_format=\"text\",\n",
        "  # output spec\n",
        "  model_prefix=\"tok400\", # output filename prefix\n",
        "  # algorithm spec\n",
        "  # BPE alg\n",
        "  model_type=\"bpe\",\n",
        "  vocab_size=400,\n",
        "  # normalization\n",
        "  normalization_rule_name=\"identity\", # ew, turn off normalization\n",
        "  remove_extra_whitespaces=False,\n",
        "  input_sentence_size=200000000, # max number of training sentences\n",
        "  max_sentence_length=4192, # max number of bytes per sentence\n",
        "  seed_sentencepiece_size=1000000,\n",
        "  shuffle_input_sentence=True,\n",
        "  # rare word treatment\n",
        "  character_coverage=0.99995,\n",
        "  byte_fallback=False,\n",
        "  # merge rules\n",
        "  split_digits=True,\n",
        "  split_by_unicode_script=True,\n",
        "  split_by_whitespace=True,\n",
        "  split_by_number=True,\n",
        "  max_sentencepiece_length=16,\n",
        "  add_dummy_prefix=True,\n",
        "  allow_whitespace_only_pieces=True,\n",
        "  # special tokens\n",
        "  unk_id=0, # the UNK token MUST exist\n",
        "  bos_id=1, # the others are optional, set to -1 to turn off\n",
        "  eos_id=2,\n",
        "  pad_id=-1,\n",
        "  # systems\n",
        "  num_threads=os.cpu_count(), # use ~all system resources\n",
        ")\n",
        "\n",
        "spm.SentencePieceTrainer.train(**options)\n"
      ],
      "metadata": {
        "id": "YpGnABefHonA"
      },
      "execution_count": 28,
      "outputs": []
    },
    {
      "cell_type": "code",
      "source": [
        "ids = sp.encode(\"hello 안녕하세요\")\n",
        "print(ids)"
      ],
      "metadata": {
        "colab": {
          "base_uri": "https://localhost:8080/"
        },
        "id": "rPXoqBnvHoCC",
        "outputId": "48e72f04-0b78-4d59-a345-9c8515416d1c"
      },
      "execution_count": 29,
      "outputs": [
        {
          "output_type": "stream",
          "name": "stdout",
          "text": [
            "[362, 378, 361, 372, 358, 362, 239, 152, 139, 238, 136, 152, 240, 152, 155, 239, 135, 187, 239, 157, 151]\n"
          ]
        }
      ]
    },
    {
      "cell_type": "code",
      "source": [
        "print([sp.id_to_piece(idx) for idx in ids])"
      ],
      "metadata": {
        "colab": {
          "base_uri": "https://localhost:8080/"
        },
        "id": "lssMGqFEHZN8",
        "outputId": "4d7bef63-7bf3-43f1-f55a-ebfa0b273ae7"
      },
      "execution_count": 30,
      "outputs": [
        {
          "output_type": "stream",
          "name": "stdout",
          "text": [
            "['▁', 'h', 'e', 'l', 'lo', '▁', '<0xEC>', '<0x95>', '<0x88>', '<0xEB>', '<0x85>', '<0x95>', '<0xED>', '<0x95>', '<0x98>', '<0xEC>', '<0x84>', '<0xB8>', '<0xEC>', '<0x9A>', '<0x94>']\n"
          ]
        }
      ]
    },
    {
      "cell_type": "markdown",
      "source": [
        "the extra whitespace token before h in hello world is to have uniform tokens instead of having 'hello' and ' hello' as different token ids- as ' hello' this is how it will be generated with whitespace prefix by default in any sentence tokenisation by gpt2/4/llama2 tokenizer regex expression\n",
        "\n",
        "sentencepiece is very similar to tiktoken/ bpe but faster\n",
        "some diff in vocab list too: eg- bpe : [((110,103): 20), ((109,34): 14), ...] vs sentencepiece ['er': 20, 'on': 14, ...]"
      ],
      "metadata": {
        "id": "TLNRJO7LI394"
      }
    }
  ]
}